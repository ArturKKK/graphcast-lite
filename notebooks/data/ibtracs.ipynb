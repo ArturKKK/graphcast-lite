{
 "cells": [
  {
   "cell_type": "code",
   "execution_count": 63,
   "metadata": {},
   "outputs": [],
   "source": [
    "from ibtracs import Ibtracs\n",
    "import numpy as np"
   ]
  },
  {
   "cell_type": "code",
   "execution_count": 64,
   "metadata": {},
   "outputs": [],
   "source": [
    "I = Ibtracs()"
   ]
  },
  {
   "cell_type": "code",
   "execution_count": 47,
   "metadata": {},
   "outputs": [],
   "source": [
    "tc = I.get_storm_from_atcfid('AL122005')"
   ]
  },
  {
   "cell_type": "code",
   "execution_count": 42,
   "metadata": {},
   "outputs": [],
   "source": [
    "# tc = I.get_storm_from_name(name='katrina', season=2005, basin='NA')"
   ]
  },
  {
   "cell_type": "code",
   "execution_count": 71,
   "metadata": {},
   "outputs": [
    {
     "name": "stdout",
     "output_type": "stream",
     "text": [
      "2005-08-23T18:00 30.0 nan nan\n",
      "2005-08-24T00:00 30.0 6.22218650096981 nan\n",
      "2005-08-24T06:00 30.0 6.20954307055325 nan\n",
      "2005-08-24T12:00 35.0 8.17991891977189 60.0\n",
      "2005-08-24T18:00 40.0 9.847407091642944 60.0\n",
      "2005-08-25T00:00 45.0 9.00059177417544 60.0\n",
      "2005-08-25T06:00 50.0 6.019261645611433 60.0\n",
      "2005-08-25T12:00 55.0 5.32219360944624 60.0\n",
      "2005-08-25T18:00 60.0 5.525571861800655 70.0\n",
      "2005-08-26T00:00 70.0 8.236294968499413 70.0\n",
      "2005-08-26T06:00 65.0 10.420370068051556 75.0\n",
      "2005-08-26T12:00 75.0 6.336686927986342 75.0\n",
      "2005-08-26T18:00 85.0 5.8019921476841265 75.0\n",
      "2005-08-27T00:00 90.0 7.159483226384502 75.0\n",
      "2005-08-27T06:00 95.0 6.562568015934714 90.0\n",
      "2005-08-27T12:00 100.0 6.260983057487734 90.0\n",
      "2005-08-27T18:00 100.0 5.5211944355404725 90.0\n",
      "2005-08-28T00:00 100.0 6.687449814636791 100.0\n",
      "2005-08-28T06:00 125.0 8.900345107352376 160.0\n",
      "2005-08-28T12:00 145.0 10.584968285647744 180.0\n",
      "2005-08-28T18:00 150.0 10.025482544913826 180.0\n",
      "2005-08-29T00:00 140.0 10.68797038950458 200.0\n",
      "2005-08-29T06:00 125.0 10.942812411931918 200.0\n",
      "2005-08-29T12:00 110.0 14.409714961478311 200.0\n",
      "2005-08-29T18:00 80.0 16.66526770694256 180.0\n",
      "2005-08-30T00:00 50.0 15.541700912654665 90.0\n",
      "2005-08-30T06:00 40.0 15.609267449153572 90.0\n",
      "2005-08-30T12:00 30.0 15.850624110475502 nan\n",
      "2005-08-30T18:00 30.0 16.9630750830516 nan\n",
      "2005-08-31T00:00 30.0 22.062564905514677 nan\n",
      "2005-08-31T06:00 25.0 24.27530645005929 nan\n"
     ]
    }
   ],
   "source": [
    "for item in zip(tc.time, tc.wind, tc.speed, tc.R34_NE):\n",
    "    print(item[0], item[1], item[2], item[3])"
   ]
  },
  {
   "cell_type": "code",
   "execution_count": 69,
   "metadata": {},
   "outputs": [
    {
     "data": {
      "text/plain": [
       "dict_keys(['ID', 'ATCF_ID', 'name', 'season', 'basin', 'subbasin', 'genesis', 'time', 'basins', 'subbasins', 'agencies', 'lat', 'lon', 'classification', 'wind', 'mslp', 'speed', 'dist2land', 'R34_NE', 'R34_SE', 'R34_SW', 'R34_NW', 'R50_NE', 'R50_SE', 'R50_SW', 'R50_NW', 'R64_NE', 'R64_SE', 'R64_SW', 'R64_NW', 'rmw'])"
      ]
     },
     "execution_count": 69,
     "metadata": {},
     "output_type": "execute_result"
    }
   ],
   "source": [
    "storm_keys = vars(tc).keys()\n",
    "storm_keys"
   ]
  },
  {
   "cell_type": "code",
   "execution_count": 70,
   "metadata": {},
   "outputs": [
    {
     "name": "stdout",
     "output_type": "stream",
     "text": [
      "ID: 2005236N23285\n",
      "ATCF_ID: AL122005\n",
      "name: KATRINA\n",
      "season: 2005\n",
      "basin: NA\n",
      "subbasin: NA\n",
      "genesis: 2005-08-23 18:00:00\n",
      "time: ['2005-08-23T18:00'] with total of 31 items\n",
      "basins: ['NA'] with total of 31 items\n",
      "subbasins: ['NA'] with total of 31 items\n",
      "agencies: ['hurdat_atl'] with total of 31 items\n",
      "lat: [23.1] with total of 31 items\n",
      "lon: [284.9] with total of 31 items\n",
      "classification: ['TS'] with total of 31 items\n",
      "wind: [30.] with total of 31 items\n",
      "mslp: [1008.] with total of 31 items\n",
      "speed: [nan] with total of 31 items\n",
      "dist2land: [240.] with total of 31 items\n",
      "R34_NE: [nan] with total of 31 items\n",
      "R34_SE: [nan] with total of 31 items\n",
      "R34_SW: [nan] with total of 31 items\n",
      "R34_NW: [nan] with total of 31 items\n",
      "R50_NE: [nan] with total of 31 items\n",
      "R50_SE: [nan] with total of 31 items\n",
      "R50_SW: [nan] with total of 31 items\n",
      "R50_NW: [nan] with total of 31 items\n",
      "R64_NE: [nan] with total of 31 items\n",
      "R64_SE: [nan] with total of 31 items\n",
      "R64_SW: [nan] with total of 31 items\n",
      "R64_NW: [nan] with total of 31 items\n",
      "rmw: [30.] with total of 31 items\n"
     ]
    }
   ],
   "source": [
    "for key in storm_keys:\n",
    "    if type(vars(tc)[key]) is np.ndarray:\n",
    "        print(f\"{key}: {vars(tc)[key][:1]} with total of {len(vars(tc)[key])} items\")\n",
    "    else:\n",
    "        print(f\"{key}: {vars(tc)[key]}\")"
   ]
  },
  {
   "cell_type": "markdown",
   "metadata": {},
   "source": [
    "## Useful features from IBTracs dataset:\n",
    "* time (ISO_TIME)\n",
    "* lat\n",
    "* lon\n",
    "* classification (NATURE)\n",
    "* wind (WMO_WIND)\n",
    "* mslp (WMO_PRES)\n",
    "* speed (cyclone movement)\n",
    "* dist2land (km)\n",
    "* R34_, R50_, R64_ (radial extent of 34, 50, 64 knot winds in each quadrant)"
   ]
  },
  {
   "cell_type": "code",
   "execution_count": 72,
   "metadata": {},
   "outputs": [],
   "source": [
    "features = ['time', 'lat', 'lon', 'classification', 'wind', 'mslp', 'speed', 'dist2land', 'R34_NE', 'R34_SE', 'R34_SW', 'R34_NW', 'R50_NE', 'R50_SE', 'R50_SW', 'R50_NW', 'R64_NE', 'R64_SE', 'R64_SW', 'R64_NW']"
   ]
  },
  {
   "cell_type": "code",
   "execution_count": 102,
   "metadata": {},
   "outputs": [
    {
     "data": {
      "text/plain": [
       "((20, 31),\n",
       " array([[datetime.datetime(2005, 8, 23, 18, 0),\n",
       "         datetime.datetime(2005, 8, 24, 0, 0),\n",
       "         datetime.datetime(2005, 8, 24, 6, 0),\n",
       "         datetime.datetime(2005, 8, 24, 12, 0),\n",
       "         datetime.datetime(2005, 8, 24, 18, 0),\n",
       "         datetime.datetime(2005, 8, 25, 0, 0),\n",
       "         datetime.datetime(2005, 8, 25, 6, 0),\n",
       "         datetime.datetime(2005, 8, 25, 12, 0),\n",
       "         datetime.datetime(2005, 8, 25, 18, 0),\n",
       "         datetime.datetime(2005, 8, 26, 0, 0),\n",
       "         datetime.datetime(2005, 8, 26, 6, 0),\n",
       "         datetime.datetime(2005, 8, 26, 12, 0),\n",
       "         datetime.datetime(2005, 8, 26, 18, 0),\n",
       "         datetime.datetime(2005, 8, 27, 0, 0),\n",
       "         datetime.datetime(2005, 8, 27, 6, 0),\n",
       "         datetime.datetime(2005, 8, 27, 12, 0),\n",
       "         datetime.datetime(2005, 8, 27, 18, 0),\n",
       "         datetime.datetime(2005, 8, 28, 0, 0),\n",
       "         datetime.datetime(2005, 8, 28, 6, 0),\n",
       "         datetime.datetime(2005, 8, 28, 12, 0),\n",
       "         datetime.datetime(2005, 8, 28, 18, 0),\n",
       "         datetime.datetime(2005, 8, 29, 0, 0),\n",
       "         datetime.datetime(2005, 8, 29, 6, 0),\n",
       "         datetime.datetime(2005, 8, 29, 12, 0),\n",
       "         datetime.datetime(2005, 8, 29, 18, 0),\n",
       "         datetime.datetime(2005, 8, 30, 0, 0),\n",
       "         datetime.datetime(2005, 8, 30, 6, 0),\n",
       "         datetime.datetime(2005, 8, 30, 12, 0),\n",
       "         datetime.datetime(2005, 8, 30, 18, 0),\n",
       "         datetime.datetime(2005, 8, 31, 0, 0),\n",
       "         datetime.datetime(2005, 8, 31, 6, 0)],\n",
       "        [23.1, 23.4, 23.8, 24.5, 25.4, 26.0, 26.1, 26.2, 26.2, 25.9, 25.4,\n",
       "         25.1, 24.9, 24.6, 24.4, 24.4, 24.5, 24.8, 25.2, 25.7, 26.3, 27.2,\n",
       "         28.2, 29.5, 31.1, 32.6, 34.1, 35.6, 37.0, 38.6, 40.1],\n",
       "        [284.9, 284.3, 283.8, 283.5, 283.1, 282.3, 281.6, 281.0, 280.4,\n",
       "         279.7, 278.7, 278.0, 277.4, 276.7, 276.0, 275.3, 274.7, 274.1,\n",
       "         273.3, 272.3, 271.4, 270.8, 270.4, 270.4, 270.4, 270.9, 271.4,\n",
       "         272.0, 273.0, 274.7, 277.1],\n",
       "        ['TS', 'TS', 'TS', 'TS', 'TS', 'TS', 'TS', 'TS', 'TS', 'TS', 'TS',\n",
       "         'TS', 'TS', 'TS', 'TS', 'TS', 'TS', 'TS', 'TS', 'TS', 'TS', 'TS',\n",
       "         'TS', 'TS', 'TS', 'TS', 'TS', 'TS', 'TS', 'ET', 'ET'],\n",
       "        [30.0, 30.0, 30.0, 35.0, 40.0, 45.0, 50.0, 55.0, 60.0, 70.0, 65.0,\n",
       "         75.0, 85.0, 90.0, 95.0, 100.0, 100.0, 100.0, 125.0, 145.0, 150.0,\n",
       "         140.0, 125.0, 110.0, 80.0, 50.0, 40.0, 30.0, 30.0, 30.0, 25.0],\n",
       "        [1008.0, 1007.0, 1007.0, 1006.0, 1003.0, 1000.0, 997.0, 994.0,\n",
       "         988.0, 983.0, 987.0, 979.0, 968.0, 959.0, 950.0, 942.0, 948.0,\n",
       "         941.0, 930.0, 909.0, 902.0, 905.0, 913.0, 923.0, 948.0, 961.0,\n",
       "         978.0, 985.0, 990.0, 994.0, 996.0],\n",
       "        [nan, 6.22218650096981, 6.20954307055325, 8.17991891977189,\n",
       "         9.847407091642944, 9.00059177417544, 6.019261645611433,\n",
       "         5.32219360944624, 5.525571861800655, 8.236294968499413,\n",
       "         10.420370068051556, 6.336686927986342, 5.8019921476841265,\n",
       "         7.159483226384502, 6.562568015934714, 6.260983057487734,\n",
       "         5.5211944355404725, 6.687449814636791, 8.900345107352376,\n",
       "         10.584968285647744, 10.025482544913826, 10.68797038950458,\n",
       "         10.942812411931918, 14.409714961478311, 16.66526770694256,\n",
       "         15.541700912654665, 15.609267449153572, 15.850624110475502,\n",
       "         16.9630750830516, 22.062564905514677, 24.27530645005929],\n",
       "        [240.0, 237.0, 171.0, 121.0, 115.0, 104.0, 115.0, 109.0, 49.0,\n",
       "         0.0, 15.0, 81.0, 143.0, 185.0, 178.0, 202.0, 240.0, 304.0, 391.0,\n",
       "         393.0, 305.0, 201.0, 101.0, 0.0, 0.0, 0.0, 0.0, 0.0, 0.0, 0.0,\n",
       "         0.0],\n",
       "        [nan, nan, nan, 60.0, 60.0, 60.0, 60.0, 60.0, 70.0, 70.0, 75.0,\n",
       "         75.0, 75.0, 75.0, 90.0, 90.0, 90.0, 100.0, 160.0, 180.0, 180.0,\n",
       "         200.0, 200.0, 200.0, 180.0, 90.0, 90.0, nan, nan, nan, nan],\n",
       "        [nan, nan, nan, 60.0, 60.0, 60.0, 60.0, 60.0, 70.0, 70.0, 75.0,\n",
       "         75.0, 75.0, 90.0, 130.0, 130.0, 140.0, 140.0, 160.0, 180.0,\n",
       "         200.0, 200.0, 200.0, 200.0, 100.0, 75.0, 75.0, nan, nan, nan,\n",
       "         nan],\n",
       "        [nan, nan, nan, nan, nan, nan, nan, 30.0, 50.0, 50.0, 40.0, 45.0,\n",
       "         55.0, 75.0, 90.0, 90.0, 90.0, 100.0, 125.0, 125.0, 125.0, 150.0,\n",
       "         150.0, 150.0, 100.0, 90.0, 75.0, nan, nan, nan, nan],\n",
       "        [nan, nan, nan, nan, nan, nan, nan, 50.0, 60.0, 40.0, 30.0, 25.0,\n",
       "         35.0, 75.0, 130.0, 130.0, 130.0, 140.0, 140.0, 140.0, 180.0,\n",
       "         180.0, 150.0, 100.0, 100.0, 50.0, 50.0, nan, nan, nan, nan],\n",
       "        [nan, nan, nan, nan, nan, nan, nan, 20.0, 25.0, 20.0, 60.0, 60.0,\n",
       "         60.0, 60.0, 60.0, 60.0, 70.0, 80.0, 100.0, 120.0, 120.0, 120.0,\n",
       "         120.0, 120.0, 100.0, 60.0, nan, nan, nan, nan, nan],\n",
       "        [nan, nan, nan, nan, nan, nan, 15.0, 20.0, 25.0, 20.0, 60.0, 60.0,\n",
       "         60.0, 60.0, 60.0, 60.0, 70.0, 80.0, 100.0, 120.0, 120.0, 120.0,\n",
       "         120.0, 120.0, 75.0, 50.0, nan, nan, nan, nan, nan],\n",
       "        [nan, nan, nan, nan, nan, nan, nan, nan, 20.0, 20.0, 20.0, 25.0,\n",
       "         35.0, 40.0, 45.0, 45.0, 60.0, 65.0, 75.0, 75.0, 75.0, 75.0, 75.0,\n",
       "         75.0, 75.0, nan, nan, nan, nan, nan, nan],\n",
       "        [nan, nan, nan, nan, nan, nan, nan, nan, 20.0, 20.0, 20.0, 20.0,\n",
       "         20.0, 30.0, 60.0, 60.0, 70.0, 80.0, 100.0, 100.0, 120.0, 100.0,\n",
       "         100.0, 75.0, 75.0, nan, nan, nan, nan, nan, nan],\n",
       "        [nan, nan, nan, nan, nan, nan, nan, nan, nan, 10.0, 10.0, 20.0,\n",
       "         20.0, 25.0, 30.0, 30.0, 35.0, 45.0, 75.0, 90.0, 90.0, 90.0, 90.0,\n",
       "         90.0, 50.0, nan, nan, nan, nan, nan, nan],\n",
       "        [nan, nan, nan, nan, nan, nan, nan, nan, nan, 10.0, 10.0, 20.0,\n",
       "         20.0, 25.0, 35.0, 35.0, 45.0, 60.0, 75.0, 90.0, 90.0, 90.0, 90.0,\n",
       "         90.0, 50.0, nan, nan, nan, nan, nan, nan],\n",
       "        [nan, nan, nan, nan, nan, nan, nan, nan, nan, 10.0, 10.0, 10.0,\n",
       "         15.0, 20.0, 30.0, 30.0, 35.0, 45.0, 50.0, 50.0, 50.0, 60.0, 60.0,\n",
       "         60.0, 30.0, nan, nan, nan, nan, nan, nan],\n",
       "        [nan, nan, nan, nan, nan, nan, nan, nan, nan, 10.0, 10.0, 10.0,\n",
       "         10.0, 15.0, 25.0, 25.0, 35.0, 50.0, 75.0, 75.0, 90.0, 80.0, 70.0,\n",
       "         60.0, 30.0, nan, nan, nan, nan, nan, nan]], dtype=object))"
      ]
     },
     "execution_count": 102,
     "metadata": {},
     "output_type": "execute_result"
    }
   ],
   "source": [
    "new_katrina = np.array([getattr(tc, key) for key in features])\n",
    "\n",
    "# for feat in features:\n",
    "new_katrina.shape, new_katrina"
   ]
  },
  {
   "cell_type": "code",
   "execution_count": 103,
   "metadata": {},
   "outputs": [
    {
     "data": {
      "text/plain": [
       "[]"
      ]
     },
     "execution_count": 103,
     "metadata": {},
     "output_type": "execute_result"
    }
   ],
   "source": [
    "I.storms"
   ]
  },
  {
   "cell_type": "code",
   "execution_count": 104,
   "metadata": {},
   "outputs": [
    {
     "name": "stdout",
     "output_type": "stream",
     "text": [
      "Loading all TCs from database...\n"
     ]
    },
    {
     "data": {
      "text/plain": [
       "13366"
      ]
     },
     "execution_count": 104,
     "metadata": {},
     "output_type": "execute_result"
    }
   ],
   "source": [
    "I.load_all_storms()\n",
    "len(I.storms)"
   ]
  },
  {
   "cell_type": "code",
   "execution_count": 106,
   "metadata": {},
   "outputs": [
    {
     "name": "stderr",
     "output_type": "stream",
     "text": [
      "/usr/local/anaconda3/envs/mlg_310/lib/python3.10/site-packages/ibtracs/storm.py:156: RuntimeWarning: All-NaN slice encountered\n",
      "  return f'Storm(name={self.name}, basin={self.basin}, maxwind={np.nanmax(self.wind):.0f} kt, genesis={self.genesis:%HZ %d %b %Y})'\n"
     ]
    },
    {
     "data": {
      "text/plain": [
       "Storm(name=NOT_NAMED, basin=NI, maxwind=nan kt, genesis=06Z 25 Oct 1842)"
      ]
     },
     "execution_count": 106,
     "metadata": {},
     "output_type": "execute_result"
    }
   ],
   "source": [
    "for storm in I.storms:\n",
    "    relevant_feats = np.array([getattr(tc, key) for key in features])"
   ]
  },
  {
   "cell_type": "code",
   "execution_count": null,
   "metadata": {},
   "outputs": [],
   "source": []
  }
 ],
 "metadata": {
  "kernelspec": {
   "display_name": "mlg_310",
   "language": "python",
   "name": "python3"
  },
  "language_info": {
   "codemirror_mode": {
    "name": "ipython",
    "version": 3
   },
   "file_extension": ".py",
   "mimetype": "text/x-python",
   "name": "python",
   "nbconvert_exporter": "python",
   "pygments_lexer": "ipython3",
   "version": "3.10.14"
  }
 },
 "nbformat": 4,
 "nbformat_minor": 2
}
