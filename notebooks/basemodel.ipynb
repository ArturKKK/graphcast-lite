{
 "cells": [
  {
   "cell_type": "code",
   "execution_count": 27,
   "metadata": {},
   "outputs": [
    {
     "name": "stdout",
     "output_type": "stream",
     "text": [
      "Current working directory: c:\\Users\\chrys\\Documents\\CSE\\MASTERS\\Q4\\MLG\\cyclone-tracking\n",
      "Changed working directory to: c:\\Users\\chrys\\Documents\\CSE\\MASTERS\\Q4\\MLG\\cyclone-tracking\n",
      "Updated sys.path: ['C:\\\\Users\\\\chrys\\\\AppData\\\\Local\\\\Programs\\\\Python\\\\Python312\\\\python312.zip', 'C:\\\\Users\\\\chrys\\\\AppData\\\\Local\\\\Programs\\\\Python\\\\Python312\\\\DLLs', 'C:\\\\Users\\\\chrys\\\\AppData\\\\Local\\\\Programs\\\\Python\\\\Python312\\\\Lib', 'C:\\\\Users\\\\chrys\\\\AppData\\\\Local\\\\Programs\\\\Python\\\\Python312', 'c:\\\\Users\\\\chrys\\\\Documents\\\\CSE\\\\MASTERS\\\\Q4\\\\MLG\\\\cyclone-tracking\\\\mlg-env', '', 'c:\\\\Users\\\\chrys\\\\Documents\\\\CSE\\\\MASTERS\\\\Q4\\\\MLG\\\\cyclone-tracking\\\\mlg-env\\\\Lib\\\\site-packages', 'c:\\\\Users\\\\chrys\\\\Documents\\\\CSE\\\\MASTERS\\\\Q4\\\\MLG\\\\cyclone-tracking\\\\mlg-env\\\\Lib\\\\site-packages\\\\win32', 'c:\\\\Users\\\\chrys\\\\Documents\\\\CSE\\\\MASTERS\\\\Q4\\\\MLG\\\\cyclone-tracking\\\\mlg-env\\\\Lib\\\\site-packages\\\\win32\\\\lib', 'c:\\\\Users\\\\chrys\\\\Documents\\\\CSE\\\\MASTERS\\\\Q4\\\\MLG\\\\cyclone-tracking\\\\mlg-env\\\\Lib\\\\site-packages\\\\Pythonwin', 'c:\\\\Users\\\\chrys\\\\Documents\\\\CSE\\\\MASTERS\\\\Q4\\\\MLG\\\\cyclone-tracking', 'c:\\\\Users\\\\chrys\\\\Documents\\\\CSE\\\\MASTERS\\\\Q4\\\\MLG\\\\cyclone-tracking', 'c:\\\\Users\\\\chrys\\\\Documents\\\\CSE\\\\MASTERS\\\\Q4\\\\MLG\\\\cyclone-tracking', 'c:\\\\Users\\\\chrys\\\\Documents\\\\CSE\\\\MASTERS\\\\Q4\\\\MLG\\\\cyclone-tracking', 'c:\\\\Users\\\\chrys\\\\Documents\\\\CSE\\\\MASTERS\\\\Q4\\\\MLG\\\\cyclone-tracking', 'c:\\\\Users\\\\chrys\\\\Documents\\\\CSE\\\\MASTERS\\\\Q4\\\\MLG\\\\cyclone-tracking', 'c:\\\\Users\\\\chrys\\\\Documents\\\\CSE\\\\MASTERS\\\\Q4\\\\MLG\\\\cyclone-tracking', 'c:\\\\Users\\\\chrys\\\\Documents\\\\CSE\\\\MASTERS\\\\Q4\\\\MLG\\\\cyclone-tracking']\n",
      "Modules imported successfully!\n"
     ]
    }
   ],
   "source": [
    "# %load_ext autoreload\n",
    "# %autoreload 2\n",
    "import sys\n",
    "import os\n",
    "\n",
    "# Verify current working directory\n",
    "print(\"Current working directory:\", os.getcwd())\n",
    "\n",
    "# Set the working directory to the project directory if necessary\n",
    "project_path = \"c:\\\\Users\\\\chrys\\\\Documents\\\\CSE\\\\MASTERS\\\\Q4\\\\MLG\\\\cyclone-tracking\"\n",
    "os.chdir(project_path)\n",
    "print(\"Changed working directory to:\", os.getcwd())\n",
    "\n",
    "# Append the project path to sys.path\n",
    "sys.path.append(project_path)\n",
    "print(\"Updated sys.path:\", sys.path)\n",
    "\n",
    "# Attempt to import the necessary modules\n",
    "from src.config import ExperimentConfig\n",
    "from src.utils import load_from_json_file\n",
    "from src.main import run_experiment\n",
    "print(\"Modules imported successfully!\")\n"
   ]
  },
  {
   "cell_type": "code",
   "execution_count": 28,
   "metadata": {},
   "outputs": [],
   "source": [
    "experiment_config = ExperimentConfig(**load_from_json_file(\"c:\\\\Users\\\\chrys\\\\Documents\\\\CSE\\\\MASTERS\\\\Q4\\\\MLG\\\\cyclone-tracking\\\\experiments\\\\baseline1\\\\config.json\"))"
   ]
  },
  {
   "cell_type": "code",
   "execution_count": 29,
   "metadata": {},
   "outputs": [
    {
     "name": "stdout",
     "output_type": "stream",
     "text": [
      "Loading train and test datasets...\n",
      "Data path:  data/datasets/Data_Adit\n",
      "Data config:  data_directory='data/datasets/Data_Adit' feats_flattened=True num_latitudes=32 num_longitudes=64 num_features=3 obs_window=4 pred_window=1 num_features_used=2 obs_window_used=2 pred_window_used=1 want_feats_flattened=True\n",
      "X_train path:  data/datasets/Data_Adit\\X_train.pt\n",
      "X_train from dataset shape:  torch.Size([234, 64, 32, 12])\n",
      "y_train from dataset shape:  torch.Size([234, 64, 32, 3])\n"
     ]
    },
    {
     "ename": "KeyboardInterrupt",
     "evalue": "",
     "output_type": "error",
     "traceback": [
      "\u001b[1;31m---------------------------------------------------------------------------\u001b[0m",
      "\u001b[1;31mKeyboardInterrupt\u001b[0m                         Traceback (most recent call last)",
      "Cell \u001b[1;32mIn[29], line 1\u001b[0m\n\u001b[1;32m----> 1\u001b[0m result \u001b[38;5;241m=\u001b[39m \u001b[43mrun_experiment\u001b[49m\u001b[43m(\u001b[49m\n\u001b[0;32m      2\u001b[0m \u001b[43m        \u001b[49m\u001b[43mexperiment_config\u001b[49m\u001b[38;5;241;43m=\u001b[39;49m\u001b[43mexperiment_config\u001b[49m\u001b[43m,\u001b[49m\u001b[43m \u001b[49m\u001b[43mresults_save_dir\u001b[49m\u001b[38;5;241;43m=\u001b[39;49m\u001b[38;5;124;43m\"\u001b[39;49m\u001b[38;5;124;43m./\u001b[39;49m\u001b[38;5;124;43m\"\u001b[39;49m\n\u001b[0;32m      3\u001b[0m \u001b[43m    \u001b[49m\u001b[43m)\u001b[49m\n",
      "File \u001b[1;32mc:\\Users\\chrys\\Documents\\CSE\\MASTERS\\Q4\\MLG\\cyclone-tracking\\src\\main.py:75\u001b[0m, in \u001b[0;36mrun_experiment\u001b[1;34m(experiment_config, results_save_dir)\u001b[0m\n\u001b[0;32m     71\u001b[0m model \u001b[38;5;241m=\u001b[39m model\u001b[38;5;241m.\u001b[39mto(device)\n\u001b[0;32m     73\u001b[0m optimizer \u001b[38;5;241m=\u001b[39m Adam(params\u001b[38;5;241m=\u001b[39mmodel\u001b[38;5;241m.\u001b[39mparameters(), lr\u001b[38;5;241m=\u001b[39mexperiment_config\u001b[38;5;241m.\u001b[39mlearning_rate)\n\u001b[1;32m---> 75\u001b[0m train_losses, test_losses \u001b[38;5;241m=\u001b[39m \u001b[43mtrain\u001b[49m\u001b[43m(\u001b[49m\n\u001b[0;32m     76\u001b[0m \u001b[43m    \u001b[49m\u001b[43mmodel\u001b[49m\u001b[38;5;241;43m=\u001b[39;49m\u001b[43mmodel\u001b[49m\u001b[43m,\u001b[49m\n\u001b[0;32m     77\u001b[0m \u001b[43m    \u001b[49m\u001b[43mtrain_datalaoder\u001b[49m\u001b[38;5;241;43m=\u001b[39;49m\u001b[43mtrain_dataloader\u001b[49m\u001b[43m,\u001b[49m\n\u001b[0;32m     78\u001b[0m \u001b[43m    \u001b[49m\u001b[43mtest_dataloader\u001b[49m\u001b[38;5;241;43m=\u001b[39;49m\u001b[43mtest_dataloader\u001b[49m\u001b[43m,\u001b[49m\n\u001b[0;32m     79\u001b[0m \u001b[43m    \u001b[49m\u001b[43moptimiser\u001b[49m\u001b[38;5;241;43m=\u001b[39;49m\u001b[43moptimizer\u001b[49m\u001b[43m,\u001b[49m\n\u001b[0;32m     80\u001b[0m \u001b[43m    \u001b[49m\u001b[43mnum_epochs\u001b[49m\u001b[38;5;241;43m=\u001b[39;49m\u001b[43mexperiment_config\u001b[49m\u001b[38;5;241;43m.\u001b[39;49m\u001b[43mnum_epochs\u001b[49m\u001b[43m,\u001b[49m\n\u001b[0;32m     81\u001b[0m \u001b[43m    \u001b[49m\u001b[43mdevice\u001b[49m\u001b[38;5;241;43m=\u001b[39;49m\u001b[43mdevice\u001b[49m\u001b[43m,\u001b[49m\n\u001b[0;32m     82\u001b[0m \u001b[43m    \u001b[49m\u001b[43mconfig\u001b[49m\u001b[38;5;241;43m=\u001b[39;49m\u001b[43mexperiment_config\u001b[49m\u001b[43m,\u001b[49m\n\u001b[0;32m     83\u001b[0m \u001b[43m    \u001b[49m\u001b[43mprint_losses\u001b[49m\u001b[38;5;241;43m=\u001b[39;49m\u001b[38;5;28;43;01mTrue\u001b[39;49;00m\u001b[43m,\u001b[49m\n\u001b[0;32m     84\u001b[0m \u001b[43m    \u001b[49m\u001b[43mwandb_log\u001b[49m\u001b[38;5;241;43m=\u001b[39;49m\u001b[38;5;28;43;01mTrue\u001b[39;49;00m\n\u001b[0;32m     85\u001b[0m \u001b[43m\u001b[49m\u001b[43m)\u001b[49m\n\u001b[0;32m     87\u001b[0m results \u001b[38;5;241m=\u001b[39m {\n\u001b[0;32m     88\u001b[0m     \u001b[38;5;124m\"\u001b[39m\u001b[38;5;124mtrain_losses\u001b[39m\u001b[38;5;124m\"\u001b[39m: train_losses,\n\u001b[0;32m     89\u001b[0m     \u001b[38;5;124m\"\u001b[39m\u001b[38;5;124mtest_losses\u001b[39m\u001b[38;5;124m\"\u001b[39m: test_losses,\n\u001b[0;32m     90\u001b[0m }\n\u001b[0;32m     92\u001b[0m \u001b[38;5;28;01mreturn\u001b[39;00m results\n",
      "File \u001b[1;32mc:\\Users\\chrys\\Documents\\CSE\\MASTERS\\Q4\\MLG\\cyclone-tracking\\src\\train.py:73\u001b[0m, in \u001b[0;36mtrain\u001b[1;34m(model, train_datalaoder, test_dataloader, optimiser, num_epochs, device, config, print_losses, wandb_log)\u001b[0m\n\u001b[0;32m     70\u001b[0m test_losses \u001b[38;5;241m=\u001b[39m []\n\u001b[0;32m     72\u001b[0m \u001b[38;5;28;01mif\u001b[39;00m wandb_log:\n\u001b[1;32m---> 73\u001b[0m     \u001b[43mwandb\u001b[49m\u001b[38;5;241;43m.\u001b[39;49m\u001b[43minit\u001b[49m\u001b[43m(\u001b[49m\n\u001b[0;32m     74\u001b[0m \u001b[43m        \u001b[49m\u001b[43mentity\u001b[49m\u001b[38;5;241;43m=\u001b[39;49m\u001b[38;5;124;43m\"\u001b[39;49m\u001b[38;5;124;43mgraphml-group4\u001b[39;49m\u001b[38;5;124;43m\"\u001b[39;49m\u001b[43m,\u001b[49m\n\u001b[0;32m     75\u001b[0m \u001b[43m        \u001b[49m\u001b[43mproject\u001b[49m\u001b[38;5;241;43m=\u001b[39;49m\u001b[38;5;124;43m\"\u001b[39;49m\u001b[38;5;124;43mweather-prediction\u001b[39;49m\u001b[38;5;124;43m\"\u001b[39;49m\u001b[43m,\u001b[49m\n\u001b[0;32m     76\u001b[0m \u001b[43m        \u001b[49m\u001b[43mconfig\u001b[49m\u001b[38;5;241;43m=\u001b[39;49m\u001b[38;5;28;43mdict\u001b[39;49m\u001b[43m(\u001b[49m\u001b[43mconfig\u001b[49m\u001b[43m)\u001b[49m\u001b[43m)\u001b[49m\n\u001b[0;32m     78\u001b[0m \u001b[38;5;28;01mfor\u001b[39;00m epoch \u001b[38;5;129;01min\u001b[39;00m \u001b[38;5;28mrange\u001b[39m(num_epochs):\n\u001b[0;32m     79\u001b[0m     epoch_train_loss \u001b[38;5;241m=\u001b[39m train_epoch(\n\u001b[0;32m     80\u001b[0m         model\u001b[38;5;241m=\u001b[39mmodel,\n\u001b[0;32m     81\u001b[0m         optimiser\u001b[38;5;241m=\u001b[39moptimiser,\n\u001b[1;32m   (...)\u001b[0m\n\u001b[0;32m     84\u001b[0m         device\u001b[38;5;241m=\u001b[39mdevice,\n\u001b[0;32m     85\u001b[0m     )\n",
      "File \u001b[1;32mc:\\Users\\chrys\\Documents\\CSE\\MASTERS\\Q4\\MLG\\cyclone-tracking\\mlg-env\\Lib\\site-packages\\wandb\\sdk\\wandb_init.py:1171\u001b[0m, in \u001b[0;36minit\u001b[1;34m(job_type, dir, config, project, entity, reinit, tags, group, name, notes, magic, config_exclude_keys, config_include_keys, anonymous, mode, allow_val_change, resume, force, tensorboard, sync_tensorboard, monitor_gym, save_code, id, fork_from, resume_from, settings)\u001b[0m\n\u001b[0;32m   1169\u001b[0m     wi \u001b[38;5;241m=\u001b[39m _WandbInit()\n\u001b[0;32m   1170\u001b[0m     wi\u001b[38;5;241m.\u001b[39msetup(kwargs)\n\u001b[1;32m-> 1171\u001b[0m     \u001b[38;5;28;01mreturn\u001b[39;00m \u001b[43mwi\u001b[49m\u001b[38;5;241;43m.\u001b[39;49m\u001b[43minit\u001b[49m\u001b[43m(\u001b[49m\u001b[43m)\u001b[49m\n\u001b[0;32m   1173\u001b[0m \u001b[38;5;28;01mexcept\u001b[39;00m \u001b[38;5;167;01mKeyboardInterrupt\u001b[39;00m \u001b[38;5;28;01mas\u001b[39;00m e:\n\u001b[0;32m   1174\u001b[0m     \u001b[38;5;28;01mif\u001b[39;00m logger \u001b[38;5;129;01mis\u001b[39;00m \u001b[38;5;129;01mnot\u001b[39;00m \u001b[38;5;28;01mNone\u001b[39;00m:\n",
      "File \u001b[1;32mc:\\Users\\chrys\\Documents\\CSE\\MASTERS\\Q4\\MLG\\cyclone-tracking\\mlg-env\\Lib\\site-packages\\wandb\\sdk\\wandb_init.py:793\u001b[0m, in \u001b[0;36m_WandbInit.init\u001b[1;34m(self)\u001b[0m\n\u001b[0;32m    789\u001b[0m         tel\u001b[38;5;241m.\u001b[39mfeature\u001b[38;5;241m.\u001b[39mresumed \u001b[38;5;241m=\u001b[39m run_result\u001b[38;5;241m.\u001b[39mrun\u001b[38;5;241m.\u001b[39mresumed\n\u001b[0;32m    791\u001b[0m run\u001b[38;5;241m.\u001b[39m_set_run_obj(run_result\u001b[38;5;241m.\u001b[39mrun)\n\u001b[1;32m--> 793\u001b[0m \u001b[43mrun\u001b[49m\u001b[38;5;241;43m.\u001b[39;49m\u001b[43m_on_init\u001b[49m\u001b[43m(\u001b[49m\u001b[43m)\u001b[49m\n\u001b[0;32m    795\u001b[0m logger\u001b[38;5;241m.\u001b[39minfo(\u001b[38;5;124m\"\u001b[39m\u001b[38;5;124mstarting run threads in backend\u001b[39m\u001b[38;5;124m\"\u001b[39m)\n\u001b[0;32m    796\u001b[0m \u001b[38;5;66;03m# initiate run (stats and metadata probing)\u001b[39;00m\n",
      "File \u001b[1;32mc:\\Users\\chrys\\Documents\\CSE\\MASTERS\\Q4\\MLG\\cyclone-tracking\\mlg-env\\Lib\\site-packages\\wandb\\sdk\\wandb_run.py:2406\u001b[0m, in \u001b[0;36mRun._on_init\u001b[1;34m(self)\u001b[0m\n\u001b[0;32m   2402\u001b[0m logger\u001b[38;5;241m.\u001b[39minfo(\u001b[38;5;124m\"\u001b[39m\u001b[38;5;124mcommunicating current version\u001b[39m\u001b[38;5;124m\"\u001b[39m)\n\u001b[0;32m   2403\u001b[0m version_handle \u001b[38;5;241m=\u001b[39m \u001b[38;5;28mself\u001b[39m\u001b[38;5;241m.\u001b[39m_backend\u001b[38;5;241m.\u001b[39minterface\u001b[38;5;241m.\u001b[39mdeliver_check_version(\n\u001b[0;32m   2404\u001b[0m     current_version\u001b[38;5;241m=\u001b[39mwandb\u001b[38;5;241m.\u001b[39m__version__\n\u001b[0;32m   2405\u001b[0m )\n\u001b[1;32m-> 2406\u001b[0m version_result \u001b[38;5;241m=\u001b[39m \u001b[43mversion_handle\u001b[49m\u001b[38;5;241;43m.\u001b[39;49m\u001b[43mwait\u001b[49m\u001b[43m(\u001b[49m\u001b[43mtimeout\u001b[49m\u001b[38;5;241;43m=\u001b[39;49m\u001b[38;5;241;43m30\u001b[39;49m\u001b[43m)\u001b[49m\n\u001b[0;32m   2407\u001b[0m \u001b[38;5;28;01mif\u001b[39;00m \u001b[38;5;129;01mnot\u001b[39;00m version_result:\n\u001b[0;32m   2408\u001b[0m     version_handle\u001b[38;5;241m.\u001b[39mabandon()\n",
      "File \u001b[1;32mc:\\Users\\chrys\\Documents\\CSE\\MASTERS\\Q4\\MLG\\cyclone-tracking\\mlg-env\\Lib\\site-packages\\wandb\\sdk\\lib\\mailbox.py:283\u001b[0m, in \u001b[0;36mMailboxHandle.wait\u001b[1;34m(self, timeout, on_probe, on_progress, release, cancel)\u001b[0m\n\u001b[0;32m    280\u001b[0m     \u001b[38;5;28;01mif\u001b[39;00m \u001b[38;5;28mself\u001b[39m\u001b[38;5;241m.\u001b[39m_interface\u001b[38;5;241m.\u001b[39m_transport_keepalive_failed():\n\u001b[0;32m    281\u001b[0m         \u001b[38;5;28;01mraise\u001b[39;00m MailboxError(\u001b[38;5;124m\"\u001b[39m\u001b[38;5;124mtransport failed\u001b[39m\u001b[38;5;124m\"\u001b[39m)\n\u001b[1;32m--> 283\u001b[0m found, abandoned \u001b[38;5;241m=\u001b[39m \u001b[38;5;28;43mself\u001b[39;49m\u001b[38;5;241;43m.\u001b[39;49m\u001b[43m_slot\u001b[49m\u001b[38;5;241;43m.\u001b[39;49m\u001b[43m_get_and_clear\u001b[49m\u001b[43m(\u001b[49m\u001b[43mtimeout\u001b[49m\u001b[38;5;241;43m=\u001b[39;49m\u001b[43mwait_timeout\u001b[49m\u001b[43m)\u001b[49m\n\u001b[0;32m    284\u001b[0m \u001b[38;5;28;01mif\u001b[39;00m found:\n\u001b[0;32m    285\u001b[0m     \u001b[38;5;66;03m# Always update progress to 100% when done\u001b[39;00m\n\u001b[0;32m    286\u001b[0m     \u001b[38;5;28;01mif\u001b[39;00m on_progress \u001b[38;5;129;01mand\u001b[39;00m progress_handle \u001b[38;5;129;01mand\u001b[39;00m progress_sent:\n",
      "File \u001b[1;32mc:\\Users\\chrys\\Documents\\CSE\\MASTERS\\Q4\\MLG\\cyclone-tracking\\mlg-env\\Lib\\site-packages\\wandb\\sdk\\lib\\mailbox.py:130\u001b[0m, in \u001b[0;36m_MailboxSlot._get_and_clear\u001b[1;34m(self, timeout)\u001b[0m\n\u001b[0;32m    128\u001b[0m \u001b[38;5;28;01mdef\u001b[39;00m \u001b[38;5;21m_get_and_clear\u001b[39m(\u001b[38;5;28mself\u001b[39m, timeout: \u001b[38;5;28mfloat\u001b[39m) \u001b[38;5;241m-\u001b[39m\u001b[38;5;241m>\u001b[39m Tuple[Optional[pb\u001b[38;5;241m.\u001b[39mResult], \u001b[38;5;28mbool\u001b[39m]:\n\u001b[0;32m    129\u001b[0m     found \u001b[38;5;241m=\u001b[39m \u001b[38;5;28;01mNone\u001b[39;00m\n\u001b[1;32m--> 130\u001b[0m     \u001b[38;5;28;01mif\u001b[39;00m \u001b[38;5;28;43mself\u001b[39;49m\u001b[38;5;241;43m.\u001b[39;49m\u001b[43m_wait\u001b[49m\u001b[43m(\u001b[49m\u001b[43mtimeout\u001b[49m\u001b[38;5;241;43m=\u001b[39;49m\u001b[43mtimeout\u001b[49m\u001b[43m)\u001b[49m:\n\u001b[0;32m    131\u001b[0m         \u001b[38;5;28;01mwith\u001b[39;00m \u001b[38;5;28mself\u001b[39m\u001b[38;5;241m.\u001b[39m_lock:\n\u001b[0;32m    132\u001b[0m             found \u001b[38;5;241m=\u001b[39m \u001b[38;5;28mself\u001b[39m\u001b[38;5;241m.\u001b[39m_result\n",
      "File \u001b[1;32mc:\\Users\\chrys\\Documents\\CSE\\MASTERS\\Q4\\MLG\\cyclone-tracking\\mlg-env\\Lib\\site-packages\\wandb\\sdk\\lib\\mailbox.py:126\u001b[0m, in \u001b[0;36m_MailboxSlot._wait\u001b[1;34m(self, timeout)\u001b[0m\n\u001b[0;32m    125\u001b[0m \u001b[38;5;28;01mdef\u001b[39;00m \u001b[38;5;21m_wait\u001b[39m(\u001b[38;5;28mself\u001b[39m, timeout: \u001b[38;5;28mfloat\u001b[39m) \u001b[38;5;241m-\u001b[39m\u001b[38;5;241m>\u001b[39m \u001b[38;5;28mbool\u001b[39m:\n\u001b[1;32m--> 126\u001b[0m     \u001b[38;5;28;01mreturn\u001b[39;00m \u001b[38;5;28;43mself\u001b[39;49m\u001b[38;5;241;43m.\u001b[39;49m\u001b[43m_event\u001b[49m\u001b[38;5;241;43m.\u001b[39;49m\u001b[43mwait\u001b[49m\u001b[43m(\u001b[49m\u001b[43mtimeout\u001b[49m\u001b[38;5;241;43m=\u001b[39;49m\u001b[43mtimeout\u001b[49m\u001b[43m)\u001b[49m\n",
      "File \u001b[1;32m~\\AppData\\Local\\Programs\\Python\\Python312\\Lib\\threading.py:655\u001b[0m, in \u001b[0;36mEvent.wait\u001b[1;34m(self, timeout)\u001b[0m\n\u001b[0;32m    653\u001b[0m signaled \u001b[38;5;241m=\u001b[39m \u001b[38;5;28mself\u001b[39m\u001b[38;5;241m.\u001b[39m_flag\n\u001b[0;32m    654\u001b[0m \u001b[38;5;28;01mif\u001b[39;00m \u001b[38;5;129;01mnot\u001b[39;00m signaled:\n\u001b[1;32m--> 655\u001b[0m     signaled \u001b[38;5;241m=\u001b[39m \u001b[38;5;28;43mself\u001b[39;49m\u001b[38;5;241;43m.\u001b[39;49m\u001b[43m_cond\u001b[49m\u001b[38;5;241;43m.\u001b[39;49m\u001b[43mwait\u001b[49m\u001b[43m(\u001b[49m\u001b[43mtimeout\u001b[49m\u001b[43m)\u001b[49m\n\u001b[0;32m    656\u001b[0m \u001b[38;5;28;01mreturn\u001b[39;00m signaled\n",
      "File \u001b[1;32m~\\AppData\\Local\\Programs\\Python\\Python312\\Lib\\threading.py:359\u001b[0m, in \u001b[0;36mCondition.wait\u001b[1;34m(self, timeout)\u001b[0m\n\u001b[0;32m    357\u001b[0m \u001b[38;5;28;01melse\u001b[39;00m:\n\u001b[0;32m    358\u001b[0m     \u001b[38;5;28;01mif\u001b[39;00m timeout \u001b[38;5;241m>\u001b[39m \u001b[38;5;241m0\u001b[39m:\n\u001b[1;32m--> 359\u001b[0m         gotit \u001b[38;5;241m=\u001b[39m \u001b[43mwaiter\u001b[49m\u001b[38;5;241;43m.\u001b[39;49m\u001b[43macquire\u001b[49m\u001b[43m(\u001b[49m\u001b[38;5;28;43;01mTrue\u001b[39;49;00m\u001b[43m,\u001b[49m\u001b[43m \u001b[49m\u001b[43mtimeout\u001b[49m\u001b[43m)\u001b[49m\n\u001b[0;32m    360\u001b[0m     \u001b[38;5;28;01melse\u001b[39;00m:\n\u001b[0;32m    361\u001b[0m         gotit \u001b[38;5;241m=\u001b[39m waiter\u001b[38;5;241m.\u001b[39macquire(\u001b[38;5;28;01mFalse\u001b[39;00m)\n",
      "\u001b[1;31mKeyboardInterrupt\u001b[0m: "
     ]
    }
   ],
   "source": [
    "result = run_experiment(\n",
    "        experiment_config=experiment_config, results_save_dir=\"./\"\n",
    "    )"
   ]
  }
 ],
 "metadata": {
  "kernelspec": {
   "display_name": "cyclone_tracking_ML4GD",
   "language": "python",
   "name": "python3"
  },
  "language_info": {
   "codemirror_mode": {
    "name": "ipython",
    "version": 3
   },
   "file_extension": ".py",
   "mimetype": "text/x-python",
   "name": "python",
   "nbconvert_exporter": "python",
   "pygments_lexer": "ipython3",
   "version": "3.12.3"
  }
 },
 "nbformat": 4,
 "nbformat_minor": 2
}
