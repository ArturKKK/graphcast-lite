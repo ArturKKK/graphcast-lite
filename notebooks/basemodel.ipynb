{
 "cells": [
  {
   "cell_type": "code",
   "execution_count": 1,
   "metadata": {},
   "outputs": [
    {
     "name": "stderr",
     "output_type": "stream",
     "text": [
      "Failed to detect the name of this notebook, you can set it manually with the WANDB_NOTEBOOK_NAME environment variable to enable code saving.\n",
      "\u001b[34m\u001b[1mwandb\u001b[0m: W&B API key is configured. Use \u001b[1m`wandb login --relogin`\u001b[0m to force relogin\n",
      "\u001b[34m\u001b[1mwandb\u001b[0m: \u001b[33mWARNING\u001b[0m If you're specifying your api key in code, ensure this code is not shared publicly.\n",
      "\u001b[34m\u001b[1mwandb\u001b[0m: \u001b[33mWARNING\u001b[0m Consider setting the WANDB_API_KEY environment variable, or running `wandb login` from the command line.\n",
      "\u001b[34m\u001b[1mwandb\u001b[0m: Appending key for api.wandb.ai to your netrc file: /home/shayan/.netrc\n"
     ]
    },
    {
     "data": {
      "text/plain": [
       "True"
      ]
     },
     "execution_count": 1,
     "metadata": {},
     "output_type": "execute_result"
    }
   ],
   "source": [
    "%load_ext autoreload\n",
    "%autoreload 2\n",
    "import sys\n",
    "sys.path.append(\"/mnt/c/Users/shaya/Documents/TU_projects/random/cyclone-tracking/\")\n",
    "import wandb\n",
    "\n",
    "from src.config import ExperimentConfig\n",
    "from src.utils import load_from_json_file\n",
    "from src.main import run_experiment\n",
    "\n",
    "\n",
    "experiment_config = ExperimentConfig(**load_from_json_file(\"/mnt/c/Users/shaya/Documents/TU_projects/random/cyclone-tracking/experiments/baseline/config.json\"))\n"
   ]
  },
  {
   "cell_type": "code",
   "execution_count": 2,
   "metadata": {},
   "outputs": [
    {
     "name": "stderr",
     "output_type": "stream",
     "text": [
      "\u001b[34m\u001b[1mwandb\u001b[0m: Currently logged in as: \u001b[33mshayan000\u001b[0m (\u001b[33mgraphml-group4\u001b[0m). Use \u001b[1m`wandb login --relogin`\u001b[0m to force relogin\n"
     ]
    },
    {
     "data": {
      "text/html": [
       "Tracking run with wandb version 0.17.2"
      ],
      "text/plain": [
       "<IPython.core.display.HTML object>"
      ]
     },
     "metadata": {},
     "output_type": "display_data"
    },
    {
     "data": {
      "text/html": [
       "Run data is saved locally in <code>/mnt/c/Users/shaya/Documents/TU_projects/random/cyclone-tracking/notebooks/wandb/run-20240620_165853-6b5s626m</code>"
      ],
      "text/plain": [
       "<IPython.core.display.HTML object>"
      ]
     },
     "metadata": {},
     "output_type": "display_data"
    },
    {
     "data": {
      "text/html": [
       "Syncing run <strong><a href='https://wandb.ai/graphml-group4/weather-prediction/runs/6b5s626m' target=\"_blank\">stellar-shadow-1</a></strong> to <a href='https://wandb.ai/graphml-group4/weather-prediction' target=\"_blank\">Weights & Biases</a> (<a href='https://wandb.me/run' target=\"_blank\">docs</a>)<br/>"
      ],
      "text/plain": [
       "<IPython.core.display.HTML object>"
      ]
     },
     "metadata": {},
     "output_type": "display_data"
    },
    {
     "data": {
      "text/html": [
       " View project at <a href='https://wandb.ai/graphml-group4/weather-prediction' target=\"_blank\">https://wandb.ai/graphml-group4/weather-prediction</a>"
      ],
      "text/plain": [
       "<IPython.core.display.HTML object>"
      ]
     },
     "metadata": {},
     "output_type": "display_data"
    },
    {
     "data": {
      "text/html": [
       " View run at <a href='https://wandb.ai/graphml-group4/weather-prediction/runs/6b5s626m' target=\"_blank\">https://wandb.ai/graphml-group4/weather-prediction/runs/6b5s626m</a>"
      ],
      "text/plain": [
       "<IPython.core.display.HTML object>"
      ]
     },
     "metadata": {},
     "output_type": "display_data"
    },
    {
     "name": "stdout",
     "output_type": "stream",
     "text": [
      "Train loss after epoch 1: 0.9596850530714052\n",
      "Test loss after epoch 1: 0.6323432922363281\n",
      "Train loss after epoch 2: 0.5141679955343915\n",
      "Test loss after epoch 2: 0.5243792988486209\n",
      "Train loss after epoch 3: 0.4518389314667791\n",
      "Test loss after epoch 3: 0.5027855998378689\n",
      "Train loss after epoch 4: 0.4337119633315975\n",
      "Test loss after epoch 4: 0.4902595382625774\n",
      "Train loss after epoch 5: 0.4281253154970642\n",
      "Test loss after epoch 5: 0.4609490067271863\n",
      "Train loss after epoch 6: 0.41317630705670416\n",
      "Test loss after epoch 6: 0.44413740352048714\n",
      "Train loss after epoch 7: 0.4020209630839845\n",
      "Test loss after epoch 7: 0.4405922950324366\n",
      "Train loss after epoch 8: 0.40657722542428565\n",
      "Test loss after epoch 8: 0.459574939840931\n",
      "Train loss after epoch 9: 0.45049270656373763\n",
      "Test loss after epoch 9: 0.44941479472790735\n",
      "Train loss after epoch 10: 0.43462335655831885\n",
      "Test loss after epoch 10: 0.4731966752116963\n",
      "Train loss after epoch 11: 0.41844646721823603\n",
      "Test loss after epoch 11: 0.44191170546968106\n",
      "Train loss after epoch 12: 0.40474417856615835\n",
      "Test loss after epoch 12: 0.44563425698522796\n",
      "Train loss after epoch 13: 0.3964855411113837\n",
      "Test loss after epoch 13: 0.4338369137149746\n",
      "Train loss after epoch 14: 0.3938212409997598\n",
      "Test loss after epoch 14: 0.4321319450766353\n",
      "Train loss after epoch 15: 0.390732781499879\n",
      "Test loss after epoch 15: 0.43018440068778346\n",
      "Train loss after epoch 16: 0.3901873832075005\n",
      "Test loss after epoch 16: 0.436158976312411\n",
      "Train loss after epoch 17: 0.4021971931314876\n",
      "Test loss after epoch 17: 0.4548637574001894\n",
      "Train loss after epoch 18: 0.43863647437503195\n",
      "Test loss after epoch 18: 0.4348673032501997\n",
      "Train loss after epoch 19: 0.39546012827473825\n",
      "Test loss after epoch 19: 0.44343035099870065\n",
      "Train loss after epoch 20: 0.39895651559544426\n",
      "Test loss after epoch 20: 0.43511477870456244\n",
      "Train loss after epoch 21: 0.3889514839547312\n",
      "Test loss after epoch 21: 0.42740456734673454\n",
      "Train loss after epoch 22: 0.38755112326043284\n",
      "Test loss after epoch 22: 0.42658504288075333\n",
      "Train loss after epoch 23: 0.38504651367154896\n",
      "Test loss after epoch 23: 0.4243884339170941\n",
      "Train loss after epoch 24: 0.3845979128128443\n",
      "Test loss after epoch 24: 0.42496084257707756\n",
      "Train loss after epoch 25: 0.3884716716587034\n",
      "Test loss after epoch 25: 0.4316914859464613\n",
      "Train loss after epoch 26: 0.4078298565159496\n",
      "Test loss after epoch 26: 0.4339465236259719\n",
      "Train loss after epoch 27: 0.41255028405760086\n",
      "Test loss after epoch 27: 0.4414883195343664\n",
      "Train loss after epoch 28: 0.3887394895920387\n",
      "Test loss after epoch 28: 0.42876208737745125\n",
      "Train loss after epoch 29: 0.38754247218115717\n",
      "Test loss after epoch 29: 0.4251594432329727\n",
      "Train loss after epoch 30: 0.38265390783293635\n",
      "Test loss after epoch 30: 0.4247482873625674\n"
     ]
    },
    {
     "data": {
      "text/html": [
       "<style>\n",
       "    table.wandb td:nth-child(1) { padding: 0 10px; text-align: left ; width: auto;} td:nth-child(2) {text-align: left ; width: 100%}\n",
       "    .wandb-row { display: flex; flex-direction: row; flex-wrap: wrap; justify-content: flex-start; width: 100% }\n",
       "    .wandb-col { display: flex; flex-direction: column; flex-basis: 100%; flex: 1; padding: 10px; }\n",
       "    </style>\n",
       "<div class=\"wandb-row\"><div class=\"wandb-col\"><h3>Run history:</h3><br/><table class=\"wandb\"><tr><td>test_loss</td><td>█▄▄▃▂▂▂▂▂▃▂▂▁▁▁▁▂▁▂▁▁▁▁▁▁▁▂▁▁▁</td></tr><tr><td>train_loss</td><td>█▃▂▂▂▁▁▁▂▂▁▁▁▁▁▁▁▂▁▁▁▁▁▁▁▁▁▁▁▁</td></tr></table><br/></div><div class=\"wandb-col\"><h3>Run summary:</h3><br/><table class=\"wandb\"><tr><td>test_loss</td><td>0.42475</td></tr><tr><td>train_loss</td><td>0.38265</td></tr></table><br/></div></div>"
      ],
      "text/plain": [
       "<IPython.core.display.HTML object>"
      ]
     },
     "metadata": {},
     "output_type": "display_data"
    },
    {
     "data": {
      "text/html": [
       " View run <strong style=\"color:#cdcd00\">stellar-shadow-1</strong> at: <a href='https://wandb.ai/graphml-group4/weather-prediction/runs/6b5s626m' target=\"_blank\">https://wandb.ai/graphml-group4/weather-prediction/runs/6b5s626m</a><br/> View project at: <a href='https://wandb.ai/graphml-group4/weather-prediction' target=\"_blank\">https://wandb.ai/graphml-group4/weather-prediction</a><br/>Synced 5 W&B file(s), 0 media file(s), 0 artifact file(s) and 0 other file(s)"
      ],
      "text/plain": [
       "<IPython.core.display.HTML object>"
      ]
     },
     "metadata": {},
     "output_type": "display_data"
    },
    {
     "data": {
      "text/html": [
       "Find logs at: <code>./wandb/run-20240620_165853-6b5s626m/logs</code>"
      ],
      "text/plain": [
       "<IPython.core.display.HTML object>"
      ]
     },
     "metadata": {},
     "output_type": "display_data"
    },
    {
     "data": {
      "text/html": [
       "The new W&B backend becomes opt-out in version 0.18.0; try it out with `wandb.require(\"core\")`! See https://wandb.me/wandb-core for more information."
      ],
      "text/plain": [
       "<IPython.core.display.HTML object>"
      ]
     },
     "metadata": {},
     "output_type": "display_data"
    }
   ],
   "source": [
    "result = run_experiment(\n",
    "        experiment_config=experiment_config, results_save_dir=\"./\"\n",
    "    )"
   ]
  },
  {
   "cell_type": "code",
   "execution_count": null,
   "metadata": {},
   "outputs": [],
   "source": []
  }
 ],
 "metadata": {
  "kernelspec": {
   "display_name": "cyclone_tracking_ML4GD",
   "language": "python",
   "name": "python3"
  },
  "language_info": {
   "codemirror_mode": {
    "name": "ipython",
    "version": 3
   },
   "file_extension": ".py",
   "mimetype": "text/x-python",
   "name": "python",
   "nbconvert_exporter": "python",
   "pygments_lexer": "ipython3",
   "version": "3.10.14"
  }
 },
 "nbformat": 4,
 "nbformat_minor": 2
}
