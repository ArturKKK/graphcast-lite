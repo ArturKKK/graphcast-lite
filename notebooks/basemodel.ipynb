{
 "cells": [
  {
   "cell_type": "code",
   "execution_count": 1,
   "metadata": {},
   "outputs": [
    {
     "name": "stdout",
     "output_type": "stream",
     "text": [
      "Current working directory: c:\\Users\\chrys\\Documents\\CSE\\MASTERS\\Q4\\MLG\\cyclone-tracking\\notebooks\n",
      "Changed working directory to: c:\\Users\\chrys\\Documents\\CSE\\MASTERS\\Q4\\MLG\\cyclone-tracking\n",
      "Modules imported successfully!\n"
     ]
    }
   ],
   "source": [
    "# %load_ext autoreload\n",
    "# %autoreload 2\n",
    "import sys\n",
    "import os\n",
    "\n",
    "# Verify current working directory\n",
    "print(\"Current working directory:\", os.getcwd())\n",
    "\n",
    "# Set the working directory to the project directory if necessary\n",
    "project_path = \"c:\\\\Users\\\\chrys\\\\Documents\\\\CSE\\\\MASTERS\\\\Q4\\\\MLG\\\\cyclone-tracking\"\n",
    "os.chdir(project_path)\n",
    "print(\"Changed working directory to:\", os.getcwd())\n",
    "\n",
    "# Append the project path to sys.path\n",
    "sys.path.append(project_path)\n",
    "# print(\"Updated sys.path:\", sys.path)\n",
    "\n",
    "# Attempt to import the necessary modules\n",
    "from src.config import ExperimentConfig\n",
    "from src.utils import load_from_json_file\n",
    "from src.main import run_experiment\n",
    "print(\"Modules imported successfully!\")\n"
   ]
  },
  {
   "cell_type": "code",
   "execution_count": 2,
   "metadata": {},
   "outputs": [],
   "source": [
    "experiment_config = ExperimentConfig(**load_from_json_file(\"c:\\\\Users\\\\chrys\\\\Documents\\\\CSE\\\\MASTERS\\\\Q4\\\\MLG\\\\cyclone-tracking\\\\experiments\\\\baseline1\\\\config.json\"))"
   ]
  },
  {
   "cell_type": "code",
   "execution_count": 3,
   "metadata": {},
   "outputs": [],
   "source": [
    "result = run_experiment(\n",
    "        experiment_config=experiment_config, results_save_dir=\"./\"\n",
    "    )"
   ]
  }
 ],
 "metadata": {
  "kernelspec": {
   "display_name": "cyclone_tracking_ML4GD",
   "language": "python",
   "name": "python3"
  },
  "language_info": {
   "codemirror_mode": {
    "name": "ipython",
    "version": 3
   },
   "file_extension": ".py",
   "mimetype": "text/x-python",
   "name": "python",
   "nbconvert_exporter": "python",
   "pygments_lexer": "ipython3",
   "version": "3.12.3"
  }
 },
 "nbformat": 4,
 "nbformat_minor": 2
}
