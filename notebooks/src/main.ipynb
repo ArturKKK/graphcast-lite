{
 "cells": [
  {
   "cell_type": "markdown",
   "metadata": {},
   "source": [
    "## Running through shell"
   ]
  },
  {
   "cell_type": "code",
   "execution_count": 8,
   "metadata": {
    "vscode": {
     "languageId": "shellscript"
    }
   },
   "outputs": [
    {
     "name": "stdout",
     "output_type": "stream",
     "text": [
      "/Users/amarmesic/Documents/tudelft/MLG/cyclone-tracking\n",
      "LICENSE          __init__.py      \u001b[34mexperiments\u001b[m\u001b[m      requirements.txt\n",
      "README.md        \u001b[34mdata\u001b[m\u001b[m             \u001b[34mnotebooks\u001b[m\u001b[m        \u001b[34msrc\u001b[m\u001b[m\n",
      "GAT\n",
      "Train loss after epoch 1: 0.5022062435109391\n",
      "Test loss after epoch 1: 0.5481403823626243\n",
      "Train loss after epoch 2: 0.4977902245317769\n",
      "Test loss after epoch 2: 0.5435808381791842\n",
      "Train loss after epoch 3: 0.4928109984622042\n",
      "Test loss after epoch 3: 0.53702328568798\n",
      "Train loss after epoch 4: 0.4856480041630248\n",
      "Test loss after epoch 4: 0.5278385513919895\n",
      "Train loss after epoch 5: 0.47605272592642367\n",
      "Test loss after epoch 5: 0.5160110643354513\n",
      "Train loss after epoch 6: 0.4639834399916168\n",
      "Test loss after epoch 6: 0.501630635584815\n",
      "Train loss after epoch 7: 0.4495621468776312\n",
      "Test loss after epoch 7: 0.48466660309646087\n",
      "Train loss after epoch 8: 0.432861989379948\n",
      "Test loss after epoch 8: 0.4657545716075574\n",
      "Train loss after epoch 9: 0.41516188856882924\n",
      "Test loss after epoch 9: 0.44643136404328426\n",
      "Train loss after epoch 10: 0.39783123950672966\n",
      "Test loss after epoch 10: 0.42963294760655546\n",
      "Train loss after epoch 11: 0.38397673078072375\n",
      "Test loss after epoch 11: 0.4168786840923762\n",
      "Train loss after epoch 12: 0.373817756644681\n",
      "Test loss after epoch 12: 0.4080022916955463\n",
      "Train loss after epoch 13: 0.3664711115197239\n",
      "Test loss after epoch 13: 0.4007120445623236\n",
      "Train loss after epoch 14: 0.3600405915680095\n",
      "Test loss after epoch 14: 0.3939905186830941\n",
      "Train loss after epoch 15: 0.3539954490131802\n",
      "Test loss after epoch 15: 0.3877820261454178\n",
      "Train loss after epoch 16: 0.34855548922832197\n",
      "Test loss after epoch 16: 0.3823680322049028\n",
      "Train loss after epoch 17: 0.3439470315590883\n",
      "Test loss after epoch 17: 0.3779419296878879\n",
      "Train loss after epoch 18: 0.34023083810113436\n",
      "Test loss after epoch 18: 0.37452610165385875\n",
      "Train loss after epoch 19: 0.3373667773527977\n",
      "Test loss after epoch 19: 0.3719124864723723\n",
      "Train loss after epoch 20: 0.3350937152520204\n",
      "Test loss after epoch 20: 0.36978416220616483\n",
      "Train loss after epoch 21: 0.3331896216950865\n",
      "Test loss after epoch 21: 0.36814449904328683\n",
      "Train loss after epoch 22: 0.3317845919702807\n",
      "Test loss after epoch 22: 0.36675253864062035\n",
      "Train loss after epoch 23: 0.3301917984444871\n",
      "Test loss after epoch 23: 0.3657268255443896\n",
      "Train loss after epoch 24: 0.32908859415950936\n",
      "Test loss after epoch 24: 0.36531315112518054\n",
      "Train loss after epoch 25: 0.32831910252571106\n",
      "Test loss after epoch 25: 0.36597447173070097\n",
      "Train loss after epoch 26: 0.32775210697426754\n",
      "Test loss after epoch 26: 0.3670781588150283\n",
      "Train loss after epoch 27: 0.32765072558680153\n",
      "Test loss after epoch 27: 0.3677443579091864\n",
      "Train loss after epoch 28: 0.3269051354155581\n",
      "Test loss after epoch 28: 0.3633616576760502\n",
      "Train loss after epoch 29: 0.3246871367988423\n",
      "Test loss after epoch 29: 0.3592726972143529\n",
      "Train loss after epoch 30: 0.32211256969688284\n",
      "Test loss after epoch 30: 0.355422686722319\n",
      "/Users/amarmesic/Documents/tudelft/MLG/cyclone-tracking/notebooks/src\n",
      "main.ipynb\n"
     ]
    }
   ],
   "source": [
    "%cd ../..\n",
    "!ls\n",
    "\n",
    "!python -m src.main experiments/baseline\n",
    "\n",
    "%cd notebooks/src\n",
    "!ls"
   ]
  },
  {
   "cell_type": "markdown",
   "metadata": {},
   "source": [
    "## Running in nb"
   ]
  },
  {
   "cell_type": "code",
   "execution_count": 22,
   "metadata": {},
   "outputs": [
    {
     "name": "stdout",
     "output_type": "stream",
     "text": [
      "Current Directory: /Users/amarmesic/Documents/tudelft/MLG/cyclone-tracking\n",
      "Current directory does not end with 'notebooks/src'\n"
     ]
    }
   ],
   "source": [
    "import os\n",
    "\n",
    "# Get the current working directory\n",
    "current_dir = os.getcwd()\n",
    "print(\"Current Directory:\", current_dir)\n",
    "\n",
    "# Check if the current directory ends with 'notebooks/src'\n",
    "if current_dir.endswith('notebooks/src'):\n",
    "    %cd ../..\n",
    "else:\n",
    "    print(\"Current directory does not end with 'notebooks/src'\")"
   ]
  },
  {
   "cell_type": "code",
   "execution_count": 23,
   "metadata": {},
   "outputs": [],
   "source": [
    "from src.main import *"
   ]
  },
  {
   "cell_type": "code",
   "execution_count": 25,
   "metadata": {},
   "outputs": [
    {
     "name": "stdout",
     "output_type": "stream",
     "text": [
      "GAT\n",
      "Train loss after epoch 1: 0.503310006398421\n",
      "Test loss after epoch 1: 0.5503452288902412\n",
      "Train loss after epoch 2: 0.4983080355530111\n",
      "Test loss after epoch 2: 0.5448259034399259\n",
      "Train loss after epoch 3: 0.49264830783901054\n",
      "Test loss after epoch 3: 0.5375164060269372\n",
      "Train loss after epoch 4: 0.4850703554275708\n",
      "Test loss after epoch 4: 0.5279186216451354\n",
      "Train loss after epoch 5: 0.4749890897009108\n",
      "Test loss after epoch 5: 0.5148422344256256\n",
      "Train loss after epoch 6: 0.4614691876957559\n",
      "Test loss after epoch 6: 0.4980736849671703\n",
      "Train loss after epoch 7: 0.4448537711913769\n",
      "Test loss after epoch 7: 0.4775678161847389\n",
      "Train loss after epoch 8: 0.42541349163422215\n",
      "Test loss after epoch 8: 0.4561816282191519\n",
      "Train loss after epoch 9: 0.4063928463520148\n",
      "Test loss after epoch 9: 0.436929040035959\n",
      "Train loss after epoch 10: 0.39042872063115114\n",
      "Test loss after epoch 10: 0.423480114694369\n",
      "Train loss after epoch 11: 0.38016766055017454\n",
      "Test loss after epoch 11: 0.4148940666247222\n",
      "Train loss after epoch 12: 0.3733564052316878\n",
      "Test loss after epoch 12: 0.40854261891316557\n",
      "Train loss after epoch 13: 0.36770663098392325\n",
      "Test loss after epoch 13: 0.40239305415395965\n",
      "Train loss after epoch 14: 0.3619162937005361\n",
      "Test loss after epoch 14: 0.39590595435287995\n",
      "Train loss after epoch 15: 0.3558982529191889\n",
      "Test loss after epoch 15: 0.38946654028811695\n",
      "Train loss after epoch 16: 0.35021822600283176\n",
      "Test loss after epoch 16: 0.38373059337422\n",
      "Train loss after epoch 17: 0.3454340477275033\n",
      "Test loss after epoch 17: 0.37952104059316344\n",
      "Train loss after epoch 18: 0.34207969547336936\n",
      "Test loss after epoch 18: 0.3765366087525578\n",
      "Train loss after epoch 19: 0.33970651361677384\n",
      "Test loss after epoch 19: 0.374531551942987\n",
      "Train loss after epoch 20: 0.33800541870614403\n",
      "Test loss after epoch 20: 0.3729198847786855\n",
      "Train loss after epoch 21: 0.33657670352194047\n",
      "Test loss after epoch 21: 0.37156710382235253\n",
      "Train loss after epoch 22: 0.33532716856043565\n",
      "Test loss after epoch 22: 0.37026721239089966\n",
      "Train loss after epoch 23: 0.3340821411365118\n",
      "Test loss after epoch 23: 0.369003508050563\n",
      "Train loss after epoch 24: 0.33285651196781385\n",
      "Test loss after epoch 24: 0.36781902030362923\n",
      "Train loss after epoch 25: 0.3318357276610839\n",
      "Test loss after epoch 25: 0.3669910127833738\n",
      "Train loss after epoch 26: 0.33089931067238504\n",
      "Test loss after epoch 26: 0.3662699854980081\n",
      "Train loss after epoch 27: 0.33008553558944637\n",
      "Test loss after epoch 27: 0.36610812554925176\n",
      "Train loss after epoch 28: 0.3294628518514144\n",
      "Test loss after epoch 28: 0.3665279938002764\n",
      "Train loss after epoch 29: 0.3295505374160587\n",
      "Test loss after epoch 29: 0.3682795712503336\n",
      "Train loss after epoch 30: 0.32979910088400555\n",
      "Test loss after epoch 30: 0.37001038506879647\n"
     ]
    },
    {
     "data": {
      "text/plain": [
       "{'train_losses': [[...],\n",
       "  [...],\n",
       "  [...],\n",
       "  [...],\n",
       "  [...],\n",
       "  [...],\n",
       "  [...],\n",
       "  [...],\n",
       "  [...],\n",
       "  [...],\n",
       "  [...],\n",
       "  [...],\n",
       "  [...],\n",
       "  [...],\n",
       "  [...],\n",
       "  [...],\n",
       "  [...],\n",
       "  [...],\n",
       "  [...],\n",
       "  [...],\n",
       "  [...],\n",
       "  [...],\n",
       "  [...],\n",
       "  [...],\n",
       "  [...],\n",
       "  [...],\n",
       "  [...],\n",
       "  [...],\n",
       "  [...],\n",
       "  [...]],\n",
       " 'test_losses': [[...],\n",
       "  [...],\n",
       "  [...],\n",
       "  [...],\n",
       "  [...],\n",
       "  [...],\n",
       "  [...],\n",
       "  [...],\n",
       "  [...],\n",
       "  [...],\n",
       "  [...],\n",
       "  [...],\n",
       "  [...],\n",
       "  [...],\n",
       "  [...],\n",
       "  [...],\n",
       "  [...],\n",
       "  [...],\n",
       "  [...],\n",
       "  [...],\n",
       "  [...],\n",
       "  [...],\n",
       "  [...],\n",
       "  [...],\n",
       "  [...],\n",
       "  [...],\n",
       "  [...],\n",
       "  [...],\n",
       "  [...],\n",
       "  [...]]}"
      ]
     },
     "execution_count": 25,
     "metadata": {},
     "output_type": "execute_result"
    }
   ],
   "source": [
    "experiment_directory = 'experiments/baseline'\n",
    "\n",
    "experiment_config_path = os.path.join(\n",
    "    experiment_directory, FileNames.EXPERIMENT_CONFIG\n",
    ")\n",
    "\n",
    "results_save_dir = os.path.join(experiment_directory, FolderNames.RESULTS)\n",
    "\n",
    "experiment_config = ExperimentConfig(**load_from_json_file(experiment_config_path))\n",
    "\n",
    "run_experiment(\n",
    "    experiment_config=experiment_config, results_save_dir=results_save_dir\n",
    ")"
   ]
  },
  {
   "cell_type": "code",
   "execution_count": null,
   "metadata": {},
   "outputs": [],
   "source": []
  }
 ],
 "metadata": {
  "kernelspec": {
   "display_name": "mlg",
   "language": "python",
   "name": "python3"
  },
  "language_info": {
   "codemirror_mode": {
    "name": "ipython",
    "version": 3
   },
   "file_extension": ".py",
   "mimetype": "text/x-python",
   "name": "python",
   "nbconvert_exporter": "python",
   "pygments_lexer": "ipython3",
   "version": "3.10.14"
  }
 },
 "nbformat": 4,
 "nbformat_minor": 2
}
