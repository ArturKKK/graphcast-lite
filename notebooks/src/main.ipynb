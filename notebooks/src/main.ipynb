{
 "cells": [
  {
   "cell_type": "code",
   "execution_count": 8,
   "metadata": {},
   "outputs": [],
   "source": [
    "import os, sys\n",
    "sys.path.append('../..')\n",
    "sys.path.append('../../src')"
   ]
  },
  {
   "cell_type": "code",
   "execution_count": 9,
   "metadata": {},
   "outputs": [
    {
     "data": {
      "text/plain": [
       "['/Users/amarmesic/Documents/tudelft/MLG/cyclone-tracking/notebooks/src',\n",
       " '/Users/amarmesic/miniconda3/envs/mlg/lib/python310.zip',\n",
       " '/Users/amarmesic/miniconda3/envs/mlg/lib/python3.10',\n",
       " '/Users/amarmesic/miniconda3/envs/mlg/lib/python3.10/lib-dynload',\n",
       " '',\n",
       " '/Users/amarmesic/miniconda3/envs/mlg/lib/python3.10/site-packages',\n",
       " '../../src',\n",
       " '../..',\n",
       " '../../src']"
      ]
     },
     "execution_count": 9,
     "metadata": {},
     "output_type": "execute_result"
    }
   ],
   "source": [
    "sys.path"
   ]
  },
  {
   "cell_type": "code",
   "execution_count": 10,
   "metadata": {
    "vscode": {
     "languageId": "shellscript"
    }
   },
   "outputs": [
    {
     "name": "stdout",
     "output_type": "stream",
     "text": [
      "__init__.py       constants.py      main.py           train.py\n",
      "\u001b[34m__pycache__\u001b[m\u001b[m/      create_graphs.py  \u001b[34mmesh\u001b[m\u001b[m/             utils.py\n",
      "config.py         \u001b[34mdata\u001b[m\u001b[m/             models.py\n"
     ]
    }
   ],
   "source": [
    "ls ../../src"
   ]
  },
  {
   "cell_type": "code",
   "execution_count": 11,
   "metadata": {},
   "outputs": [],
   "source": [
    "import main"
   ]
  },
  {
   "cell_type": "code",
   "execution_count": 12,
   "metadata": {},
   "outputs": [
    {
     "ename": "FileNotFoundError",
     "evalue": "[Errno 2] No such file or directory: '--f=/Users/amarmesic/Library/Jupyter/runtime/kernel-v2-45000uZ8haAyjqfvt.json/config.json'",
     "output_type": "error",
     "traceback": [
      "\u001b[0;31m---------------------------------------------------------------------------\u001b[0m",
      "\u001b[0;31mFileNotFoundError\u001b[0m                         Traceback (most recent call last)",
      "Cell \u001b[0;32mIn[12], line 1\u001b[0m\n\u001b[0;32m----> 1\u001b[0m \u001b[43mmain\u001b[49m\u001b[38;5;241;43m.\u001b[39;49m\u001b[43mmain\u001b[49m\u001b[43m(\u001b[49m\u001b[43m)\u001b[49m\n",
      "File \u001b[0;32m~/Documents/tudelft/MLG/cyclone-tracking/notebooks/src/../../src/main.py:84\u001b[0m, in \u001b[0;36mmain\u001b[0;34m()\u001b[0m\n\u001b[1;32m     78\u001b[0m experiment_config_path \u001b[38;5;241m=\u001b[39m os\u001b[38;5;241m.\u001b[39mpath\u001b[38;5;241m.\u001b[39mjoin(\n\u001b[1;32m     79\u001b[0m     experiment_directory, FileNames\u001b[38;5;241m.\u001b[39mEXPERIMENT_CONFIG\n\u001b[1;32m     80\u001b[0m )\n\u001b[1;32m     82\u001b[0m results_save_dir \u001b[38;5;241m=\u001b[39m os\u001b[38;5;241m.\u001b[39mpath\u001b[38;5;241m.\u001b[39mjoin(experiment_directory, FolderNames\u001b[38;5;241m.\u001b[39mRESULTS)\n\u001b[0;32m---> 84\u001b[0m experiment_config \u001b[38;5;241m=\u001b[39m ExperimentConfig(\u001b[38;5;241m*\u001b[39m\u001b[38;5;241m*\u001b[39m\u001b[43mload_from_json_file\u001b[49m\u001b[43m(\u001b[49m\u001b[43mexperiment_config_path\u001b[49m\u001b[43m)\u001b[49m)\n\u001b[1;32m     86\u001b[0m run_experiment(\n\u001b[1;32m     87\u001b[0m     experiment_config\u001b[38;5;241m=\u001b[39mexperiment_config, results_save_dir\u001b[38;5;241m=\u001b[39mresults_save_dir\n\u001b[1;32m     88\u001b[0m )\n",
      "File \u001b[0;32m~/Documents/tudelft/MLG/cyclone-tracking/notebooks/src/../../src/utils.py:44\u001b[0m, in \u001b[0;36mload_from_json_file\u001b[0;34m(data_path)\u001b[0m\n\u001b[1;32m     34\u001b[0m \u001b[38;5;28;01mdef\u001b[39;00m \u001b[38;5;21mload_from_json_file\u001b[39m(data_path: \u001b[38;5;28mstr\u001b[39m) \u001b[38;5;241m-\u001b[39m\u001b[38;5;241m>\u001b[39m Dict[\u001b[38;5;28mstr\u001b[39m, Any]:\n\u001b[1;32m     35\u001b[0m \u001b[38;5;250m    \u001b[39m\u001b[38;5;124;03m\"\"\"Loads data from a JSON file.\u001b[39;00m\n\u001b[1;32m     36\u001b[0m \n\u001b[1;32m     37\u001b[0m \u001b[38;5;124;03m    Args:\u001b[39;00m\n\u001b[0;32m   (...)\u001b[0m\n\u001b[1;32m     41\u001b[0m \u001b[38;5;124;03m        Dict[str, Any]: Returns the loaded dictionary.\u001b[39;00m\n\u001b[1;32m     42\u001b[0m \u001b[38;5;124;03m    \"\"\"\u001b[39;00m\n\u001b[0;32m---> 44\u001b[0m     \u001b[38;5;28;01mwith\u001b[39;00m \u001b[38;5;28;43mopen\u001b[39;49m\u001b[43m(\u001b[49m\u001b[43mdata_path\u001b[49m\u001b[43m,\u001b[49m\u001b[43m \u001b[49m\u001b[38;5;124;43m\"\u001b[39;49m\u001b[38;5;124;43mr\u001b[39;49m\u001b[38;5;124;43m\"\u001b[39;49m\u001b[43m)\u001b[49m \u001b[38;5;28;01mas\u001b[39;00m infile:\n\u001b[1;32m     45\u001b[0m         loaded_dict \u001b[38;5;241m=\u001b[39m json\u001b[38;5;241m.\u001b[39mload(infile)\n\u001b[1;32m     47\u001b[0m     \u001b[38;5;28;01mreturn\u001b[39;00m loaded_dict\n",
      "\u001b[0;31mFileNotFoundError\u001b[0m: [Errno 2] No such file or directory: '--f=/Users/amarmesic/Library/Jupyter/runtime/kernel-v2-45000uZ8haAyjqfvt.json/config.json'"
     ]
    }
   ],
   "source": [
    "main.main()"
   ]
  },
  {
   "cell_type": "code",
   "execution_count": null,
   "metadata": {},
   "outputs": [],
   "source": [
    "experiment_directory = sys.argv[1]\n",
    "\n",
    "experiment_config_path = os.path.join(\n",
    "    experiment_directory, FileNames.EXPERIMENT_CONFIG\n",
    ")\n",
    "\n",
    "results_save_dir = os.path.join(experiment_directory, FolderNames.RESULTS)\n",
    "\n",
    "experiment_config = ExperimentConfig(**load_from_json_file(experiment_config_path))\n",
    "\n",
    "run_experiment(\n",
    "    experiment_config=experiment_config, results_save_dir=results_save_dir\n",
    ")"
   ]
  }
 ],
 "metadata": {
  "kernelspec": {
   "display_name": "mlg",
   "language": "python",
   "name": "python3"
  },
  "language_info": {
   "codemirror_mode": {
    "name": "ipython",
    "version": 3
   },
   "file_extension": ".py",
   "mimetype": "text/x-python",
   "name": "python",
   "nbconvert_exporter": "python",
   "pygments_lexer": "ipython3",
   "version": "3.10.14"
  }
 },
 "nbformat": 4,
 "nbformat_minor": 2
}
