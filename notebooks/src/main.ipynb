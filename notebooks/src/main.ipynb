{
 "cells": [
  {
   "cell_type": "markdown",
   "metadata": {},
   "source": [
    "## Running through shell"
   ]
  },
  {
   "cell_type": "code",
   "execution_count": 8,
   "metadata": {
    "vscode": {
     "languageId": "shellscript"
    }
   },
   "outputs": [
    {
     "name": "stdout",
     "output_type": "stream",
     "text": [
      "/Users/amarmesic/Documents/tudelft/MLG/cyclone-tracking\n",
      "LICENSE          __init__.py      \u001b[34mexperiments\u001b[m\u001b[m      requirements.txt\n",
      "README.md        \u001b[34mdata\u001b[m\u001b[m             \u001b[34mnotebooks\u001b[m\u001b[m        \u001b[34msrc\u001b[m\u001b[m\n",
      "GAT\n",
      "Train loss after epoch 1: 0.5022062435109391\n",
      "Test loss after epoch 1: 0.5481403823626243\n",
      "Train loss after epoch 2: 0.4977902245317769\n",
      "Test loss after epoch 2: 0.5435808381791842\n",
      "Train loss after epoch 3: 0.4928109984622042\n",
      "Test loss after epoch 3: 0.53702328568798\n",
      "Train loss after epoch 4: 0.4856480041630248\n",
      "Test loss after epoch 4: 0.5278385513919895\n",
      "Train loss after epoch 5: 0.47605272592642367\n",
      "Test loss after epoch 5: 0.5160110643354513\n",
      "Train loss after epoch 6: 0.4639834399916168\n",
      "Test loss after epoch 6: 0.501630635584815\n",
      "Train loss after epoch 7: 0.4495621468776312\n",
      "Test loss after epoch 7: 0.48466660309646087\n",
      "Train loss after epoch 8: 0.432861989379948\n",
      "Test loss after epoch 8: 0.4657545716075574\n",
      "Train loss after epoch 9: 0.41516188856882924\n",
      "Test loss after epoch 9: 0.44643136404328426\n",
      "Train loss after epoch 10: 0.39783123950672966\n",
      "Test loss after epoch 10: 0.42963294760655546\n",
      "Train loss after epoch 11: 0.38397673078072375\n",
      "Test loss after epoch 11: 0.4168786840923762\n",
      "Train loss after epoch 12: 0.373817756644681\n",
      "Test loss after epoch 12: 0.4080022916955463\n",
      "Train loss after epoch 13: 0.3664711115197239\n",
      "Test loss after epoch 13: 0.4007120445623236\n",
      "Train loss after epoch 14: 0.3600405915680095\n",
      "Test loss after epoch 14: 0.3939905186830941\n",
      "Train loss after epoch 15: 0.3539954490131802\n",
      "Test loss after epoch 15: 0.3877820261454178\n",
      "Train loss after epoch 16: 0.34855548922832197\n",
      "Test loss after epoch 16: 0.3823680322049028\n",
      "Train loss after epoch 17: 0.3439470315590883\n",
      "Test loss after epoch 17: 0.3779419296878879\n",
      "Train loss after epoch 18: 0.34023083810113436\n",
      "Test loss after epoch 18: 0.37452610165385875\n",
      "Train loss after epoch 19: 0.3373667773527977\n",
      "Test loss after epoch 19: 0.3719124864723723\n",
      "Train loss after epoch 20: 0.3350937152520204\n",
      "Test loss after epoch 20: 0.36978416220616483\n",
      "Train loss after epoch 21: 0.3331896216950865\n",
      "Test loss after epoch 21: 0.36814449904328683\n",
      "Train loss after epoch 22: 0.3317845919702807\n",
      "Test loss after epoch 22: 0.36675253864062035\n",
      "Train loss after epoch 23: 0.3301917984444871\n",
      "Test loss after epoch 23: 0.3657268255443896\n",
      "Train loss after epoch 24: 0.32908859415950936\n",
      "Test loss after epoch 24: 0.36531315112518054\n",
      "Train loss after epoch 25: 0.32831910252571106\n",
      "Test loss after epoch 25: 0.36597447173070097\n",
      "Train loss after epoch 26: 0.32775210697426754\n",
      "Test loss after epoch 26: 0.3670781588150283\n",
      "Train loss after epoch 27: 0.32765072558680153\n",
      "Test loss after epoch 27: 0.3677443579091864\n",
      "Train loss after epoch 28: 0.3269051354155581\n",
      "Test loss after epoch 28: 0.3633616576760502\n",
      "Train loss after epoch 29: 0.3246871367988423\n",
      "Test loss after epoch 29: 0.3592726972143529\n",
      "Train loss after epoch 30: 0.32211256969688284\n",
      "Test loss after epoch 30: 0.355422686722319\n",
      "/Users/amarmesic/Documents/tudelft/MLG/cyclone-tracking/notebooks/src\n",
      "main.ipynb\n"
     ]
    }
   ],
   "source": [
    "%cd ../..\n",
    "!ls\n",
    "\n",
    "!python -m src.main experiments/baseline\n",
    "\n",
    "%cd notebooks/src\n",
    "!ls"
   ]
  },
  {
   "cell_type": "markdown",
   "metadata": {},
   "source": [
    "## Running in nb"
   ]
  },
  {
   "cell_type": "code",
   "execution_count": 2,
   "metadata": {},
   "outputs": [
    {
     "name": "stdout",
     "output_type": "stream",
     "text": [
      "Current Directory: c:\\Users\\aratr\\cyclone-tracking\\notebooks\\src\n",
      "c:\\Users\\aratr\\cyclone-tracking\n"
     ]
    }
   ],
   "source": [
    "import os\n",
    "\n",
    "# Get the current working directory\n",
    "current_dir = os.getcwd()\n",
    "print(\"Current Directory:\", current_dir)\n",
    "\n",
    "# Check if the current directory ends with 'notebooks/src'\n",
    "if current_dir.endswith('notebooks\\\\src'):\n",
    "    %cd ../..\n",
    "else:\n",
    "    print(\"Current directory does not end with 'notebooks/src'\")"
   ]
  },
  {
   "cell_type": "code",
   "execution_count": 22,
   "metadata": {},
   "outputs": [
    {
     "name": "stdout",
     "output_type": "stream",
     "text": [
      "The autoreload extension is already loaded. To reload it, use:\n",
      "  %reload_ext autoreload\n"
     ]
    }
   ],
   "source": [
    "%load_ext autoreload\n",
    "%autoreload 2\n",
    "from src.main import *"
   ]
  },
  {
   "cell_type": "code",
   "execution_count": 23,
   "metadata": {},
   "outputs": [
    {
     "name": "stdout",
     "output_type": "stream",
     "text": [
      "X_train from dataset shape:  torch.Size([780, 64, 32, 2, 12])\n",
      "y_train from dataset shape:  torch.Size([780, 64, 32, 1, 12])\n",
      "Train loss after epoch 1: 1.0533132674602361\n",
      "Test loss after epoch 1: 0.9654050168334222\n",
      "Train loss after epoch 2: 0.8970245990997706\n",
      "Test loss after epoch 2: 0.8766787079524021\n",
      "Train loss after epoch 3: 0.8373172180774885\n",
      "Test loss after epoch 3: 0.8349048921040126\n",
      "Train loss after epoch 4: 0.8054047352992572\n",
      "Test loss after epoch 4: 0.8095647561915067\n",
      "Train loss after epoch 5: 0.7847447045338459\n",
      "Test loss after epoch 5: 0.7919181804267728\n",
      "Train loss after epoch 6: 0.7697969221915955\n",
      "Test loss after epoch 6: 0.7788943018840284\n",
      "Train loss after epoch 7: 0.7584536494352878\n",
      "Test loss after epoch 7: 0.7686327616779172\n",
      "Train loss after epoch 8: 0.7495899450320463\n",
      "Test loss after epoch 8: 0.7607140197437636\n",
      "Train loss after epoch 9: 0.7425648234593563\n",
      "Test loss after epoch 9: 0.754444068791915\n",
      "Train loss after epoch 10: 0.7368941568411314\n",
      "Test loss after epoch 10: 0.7492680917589032\n",
      "Train loss after epoch 11: 0.7323169894707509\n",
      "Test loss after epoch 11: 0.7450977128987409\n",
      "Train loss after epoch 12: 0.7285250574350357\n",
      "Test loss after epoch 12: 0.7416217126408402\n",
      "Train loss after epoch 13: 0.7253662067346084\n",
      "Test loss after epoch 13: 0.7386899678682795\n",
      "Train loss after epoch 14: 0.7226770637891231\n",
      "Test loss after epoch 14: 0.7361486806553237\n",
      "Train loss after epoch 15: 0.7203449211823635\n",
      "Test loss after epoch 15: 0.7339079671976517\n",
      "Train loss after epoch 16: 0.7183059492936501\n",
      "Test loss after epoch 16: 0.7319679591728716\n",
      "Train loss after epoch 17: 0.7165109560275689\n",
      "Test loss after epoch 17: 0.7302723800649449\n",
      "Train loss after epoch 18: 0.7148834272837028\n",
      "Test loss after epoch 18: 0.7286964098409731\n",
      "Train loss after epoch 19: 0.7134394817627393\n",
      "Test loss after epoch 19: 0.727334343961307\n",
      "Train loss after epoch 20: 0.7121173278643534\n",
      "Test loss after epoch 20: 0.7260276115670496\n",
      "Train loss after epoch 21: 0.7109327923028897\n",
      "Test loss after epoch 21: 0.7248653121748749\n",
      "Train loss after epoch 22: 0.7098264038562775\n",
      "Test loss after epoch 22: 0.723778677534084\n",
      "Train loss after epoch 23: 0.7088269608143049\n",
      "Test loss after epoch 23: 0.7227773940076634\n",
      "Train loss after epoch 24: 0.7078866269343939\n",
      "Test loss after epoch 24: 0.7218756842978147\n",
      "Train loss after epoch 25: 0.7070429809582539\n",
      "Test loss after epoch 25: 0.7210468847532662\n",
      "Train loss after epoch 26: 0.7062270844594026\n",
      "Test loss after epoch 26: 0.7202371234188274\n",
      "Train loss after epoch 27: 0.7055090006345358\n",
      "Test loss after epoch 27: 0.7194703640986462\n",
      "Train loss after epoch 28: 0.7048107965634419\n",
      "Test loss after epoch 28: 0.7187899673471645\n",
      "Train loss after epoch 29: 0.7041755272791936\n",
      "Test loss after epoch 29: 0.718085986619093\n",
      "Train loss after epoch 30: 0.7035451419078387\n",
      "Test loss after epoch 30: 0.7176334374413198\n"
     ]
    },
    {
     "data": {
      "text/plain": [
       "{'train_losses': [1.0533132674602361,\n",
       "  0.8970245990997706,\n",
       "  0.8373172180774885,\n",
       "  0.8054047352992572,\n",
       "  0.7847447045338459,\n",
       "  0.7697969221915955,\n",
       "  0.7584536494352878,\n",
       "  0.7495899450320463,\n",
       "  0.7425648234593563,\n",
       "  0.7368941568411314,\n",
       "  0.7323169894707509,\n",
       "  0.7285250574350357,\n",
       "  0.7253662067346084,\n",
       "  0.7226770637891231,\n",
       "  0.7203449211823635,\n",
       "  0.7183059492936501,\n",
       "  0.7165109560275689,\n",
       "  0.7148834272837028,\n",
       "  0.7134394817627393,\n",
       "  0.7121173278643534,\n",
       "  0.7109327923028897,\n",
       "  0.7098264038562775,\n",
       "  0.7088269608143049,\n",
       "  0.7078866269343939,\n",
       "  0.7070429809582539,\n",
       "  0.7062270844594026,\n",
       "  0.7055090006345358,\n",
       "  0.7048107965634419,\n",
       "  0.7041755272791936,\n",
       "  0.7035451419078387],\n",
       " 'test_losses': [0.9654050168334222,\n",
       "  0.8766787079524021,\n",
       "  0.8349048921040126,\n",
       "  0.8095647561915067,\n",
       "  0.7919181804267728,\n",
       "  0.7788943018840284,\n",
       "  0.7686327616779172,\n",
       "  0.7607140197437636,\n",
       "  0.754444068791915,\n",
       "  0.7492680917589032,\n",
       "  0.7450977128987409,\n",
       "  0.7416217126408402,\n",
       "  0.7386899678682795,\n",
       "  0.7361486806553237,\n",
       "  0.7339079671976517,\n",
       "  0.7319679591728716,\n",
       "  0.7302723800649449,\n",
       "  0.7286964098409731,\n",
       "  0.727334343961307,\n",
       "  0.7260276115670496,\n",
       "  0.7248653121748749,\n",
       "  0.723778677534084,\n",
       "  0.7227773940076634,\n",
       "  0.7218756842978147,\n",
       "  0.7210468847532662,\n",
       "  0.7202371234188274,\n",
       "  0.7194703640986462,\n",
       "  0.7187899673471645,\n",
       "  0.718085986619093,\n",
       "  0.7176334374413198]}"
      ]
     },
     "execution_count": 23,
     "metadata": {},
     "output_type": "execute_result"
    }
   ],
   "source": [
    "experiment_directory = 'experiments\\\\baseline2'\n",
    "\n",
    "experiment_config_path = os.path.join(\n",
    "    experiment_directory, FileNames.EXPERIMENT_CONFIG\n",
    ")\n",
    "\n",
    "results_save_dir = os.path.join(experiment_directory, FolderNames.RESULTS)\n",
    "\n",
    "experiment_config = ExperimentConfig(**load_from_json_file(experiment_config_path))\n",
    "\n",
    "run_experiment(\n",
    "    experiment_config=experiment_config, results_save_dir=results_save_dir\n",
    ")"
   ]
  },
  {
   "cell_type": "code",
   "execution_count": null,
   "metadata": {},
   "outputs": [],
   "source": []
  }
 ],
 "metadata": {
  "kernelspec": {
   "display_name": "mlg",
   "language": "python",
   "name": "python3"
  },
  "language_info": {
   "codemirror_mode": {
    "name": "ipython",
    "version": 3
   },
   "file_extension": ".py",
   "mimetype": "text/x-python",
   "name": "python",
   "nbconvert_exporter": "python",
   "pygments_lexer": "ipython3",
   "version": "3.12.4"
  }
 },
 "nbformat": 4,
 "nbformat_minor": 2
}
