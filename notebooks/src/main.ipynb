{
 "cells": [
  {
   "cell_type": "code",
   "execution_count": 1,
   "metadata": {},
   "outputs": [],
   "source": [
    "import os, sys\n",
    "sys.path.append('../..')\n",
    "sys.path.append('../../src')"
   ]
  },
  {
   "cell_type": "code",
   "execution_count": 2,
   "metadata": {},
   "outputs": [
    {
     "data": {
      "text/plain": [
       "['/Users/amarmesic/Documents/tudelft/MLG/cyclone-tracking/notebooks/src',\n",
       " '/Users/amarmesic/miniconda3/envs/mlg/lib/python310.zip',\n",
       " '/Users/amarmesic/miniconda3/envs/mlg/lib/python3.10',\n",
       " '/Users/amarmesic/miniconda3/envs/mlg/lib/python3.10/lib-dynload',\n",
       " '',\n",
       " '/Users/amarmesic/miniconda3/envs/mlg/lib/python3.10/site-packages',\n",
       " '../..',\n",
       " '../../src']"
      ]
     },
     "execution_count": 2,
     "metadata": {},
     "output_type": "execute_result"
    }
   ],
   "source": [
    "sys.path"
   ]
  },
  {
   "cell_type": "code",
   "execution_count": 3,
   "metadata": {
    "vscode": {
     "languageId": "shellscript"
    }
   },
   "outputs": [
    {
     "name": "stdout",
     "output_type": "stream",
     "text": [
      "__init__.py       constants.py      main.py           train.py\n",
      "\u001b[34m__pycache__\u001b[m\u001b[m/      create_graphs.py  \u001b[34mmesh\u001b[m\u001b[m/             utils.py\n",
      "config.py         \u001b[34mdata\u001b[m\u001b[m/             models.py\n"
     ]
    }
   ],
   "source": [
    "ls ../../src"
   ]
  },
  {
   "cell_type": "code",
   "execution_count": 4,
   "metadata": {},
   "outputs": [],
   "source": [
    "# import main"
   ]
  },
  {
   "cell_type": "code",
   "execution_count": 18,
   "metadata": {
    "vscode": {
     "languageId": "shellscript"
    }
   },
   "outputs": [
    {
     "name": "stdout",
     "output_type": "stream",
     "text": [
      "main.ipynb\n"
     ]
    }
   ],
   "source": [
    "ls"
   ]
  },
  {
   "cell_type": "code",
   "execution_count": 22,
   "metadata": {
    "vscode": {
     "languageId": "shellscript"
    }
   },
   "outputs": [
    {
     "ename": "SyntaxError",
     "evalue": "invalid syntax (2678266439.py, line 1)",
     "output_type": "error",
     "traceback": [
      "\u001b[0;36m  Cell \u001b[0;32mIn[22], line 1\u001b[0;36m\u001b[0m\n\u001b[0;31m    cd ../..\u001b[0m\n\u001b[0m        ^\u001b[0m\n\u001b[0;31mSyntaxError\u001b[0m\u001b[0;31m:\u001b[0m invalid syntax\n"
     ]
    }
   ],
   "source": [
    "cd ../..\n",
    "ls"
   ]
  },
  {
   "cell_type": "code",
   "execution_count": 15,
   "metadata": {
    "vscode": {
     "languageId": "shellscript"
    }
   },
   "outputs": [
    {
     "name": "stdout",
     "output_type": "stream",
     "text": [
      "main.ipynb\n",
      "Traceback (most recent call last):\n",
      "  File \"/Users/amarmesic/Documents/tudelft/MLG/cyclone-tracking/notebooks/src/../../src/main.py\", line 3, in <module>\n",
      "    from src.constants import FileNames, FolderNames\n",
      "ModuleNotFoundError: No module named 'src'\n",
      "main.ipynb\n",
      "zsh:cd:1: no such file or directory: notebooks/src\n"
     ]
    }
   ],
   "source": [
    "!cd ../..\n",
    "!ls\n",
    "!python ../../src/main.py experiments/baseline\n",
    "\n",
    "!ls\n",
    "!cd notebooks/src"
   ]
  },
  {
   "cell_type": "code",
   "execution_count": null,
   "metadata": {},
   "outputs": [],
   "source": [
    "experiment_directory = sys.argv[1]\n",
    "\n",
    "experiment_config_path = os.path.join(\n",
    "    experiment_directory, FileNames.EXPERIMENT_CONFIG\n",
    ")\n",
    "\n",
    "results_save_dir = os.path.join(experiment_directory, FolderNames.RESULTS)\n",
    "\n",
    "experiment_config = ExperimentConfig(**load_from_json_file(experiment_config_path))\n",
    "\n",
    "run_experiment(\n",
    "    experiment_config=experiment_config, results_save_dir=results_save_dir\n",
    ")"
   ]
  }
 ],
 "metadata": {
  "kernelspec": {
   "display_name": "mlg",
   "language": "python",
   "name": "python3"
  },
  "language_info": {
   "codemirror_mode": {
    "name": "ipython",
    "version": 3
   },
   "file_extension": ".py",
   "mimetype": "text/x-python",
   "name": "python",
   "nbconvert_exporter": "python",
   "pygments_lexer": "ipython3",
   "version": "3.10.14"
  }
 },
 "nbformat": 4,
 "nbformat_minor": 2
}
